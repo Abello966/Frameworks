{
 "cells": [
  {
   "cell_type": "markdown",
   "metadata": {
    "deletable": true,
    "editable": true
   },
   "source": [
    "# Basic operations in tensorflow\n",
    "\n",
    "references: [cs20si](http://web.stanford.edu/class/cs20si/lectures/slides_02.pdf) and [tensorflow](https://www.tensorflow.org)"
   ]
  },
  {
   "cell_type": "code",
   "execution_count": 1,
   "metadata": {
    "collapsed": true,
    "deletable": true,
    "editable": true
   },
   "outputs": [],
   "source": [
    "import tensorflow as tf\n",
    "from util import newlogname"
   ]
  },
  {
   "cell_type": "markdown",
   "metadata": {
    "collapsed": false,
    "deletable": true,
    "editable": true
   },
   "source": [
    "** Graph **\n",
    "\n",
    "A Graph contains a set of tf.Operation objects, which represent units of computation; and tf.Tensor objects, which represent the units of data that flow between operations.\n",
    "\n",
    "A default Graph is always registered, and accessible by calling tf.get_default_graph. Another typical usage involves the tf.Graph.as_default context manager, which overrides the current default graph for the lifetime of the context."
   ]
  },
  {
   "cell_type": "code",
   "execution_count": 2,
   "metadata": {
    "collapsed": true
   },
   "outputs": [],
   "source": [
    "my_graph = tf.Graph()\n",
    "with my_graph.as_default():\n",
    "    a = tf.constant(5.0)\n",
    "    b = tf.constant(6.0)\n",
    "    c = a * b"
   ]
  },
  {
   "cell_type": "code",
   "execution_count": 3,
   "metadata": {
    "collapsed": false
   },
   "outputs": [
    {
     "name": "stdout",
     "output_type": "stream",
     "text": [
      "Tensor(\"Const:0\", shape=(), dtype=float32)\n",
      "Tensor(\"Const_1:0\", shape=(), dtype=float32)\n",
      "Tensor(\"mul:0\", shape=(), dtype=float32)\n"
     ]
    }
   ],
   "source": [
    "print(a)\n",
    "print(b)\n",
    "print(c)"
   ]
  },
  {
   "cell_type": "code",
   "execution_count": 4,
   "metadata": {
    "collapsed": false
   },
   "outputs": [
    {
     "name": "stdout",
     "output_type": "stream",
     "text": [
      "<tensorflow.python.framework.ops.Graph object at 0x7fb6627f1b38>\n",
      "<tensorflow.python.framework.ops.Graph object at 0x7fb6627f1b38>\n",
      "<tensorflow.python.framework.ops.Graph object at 0x7fb6627f1b38>\n"
     ]
    }
   ],
   "source": [
    "print(a.graph)\n",
    "print(b.graph)\n",
    "print(c.graph)\n",
    "old = c.graph"
   ]
  },
  {
   "cell_type": "markdown",
   "metadata": {},
   "source": [
    "**We can print the graph to see its contents**"
   ]
  },
  {
   "cell_type": "code",
   "execution_count": 5,
   "metadata": {
    "collapsed": false
   },
   "outputs": [
    {
     "data": {
      "text/plain": [
       "node {\n",
       "  name: \"Const\"\n",
       "  op: \"Const\"\n",
       "  attr {\n",
       "    key: \"dtype\"\n",
       "    value {\n",
       "      type: DT_FLOAT\n",
       "    }\n",
       "  }\n",
       "  attr {\n",
       "    key: \"value\"\n",
       "    value {\n",
       "      tensor {\n",
       "        dtype: DT_FLOAT\n",
       "        tensor_shape {\n",
       "        }\n",
       "        float_val: 5.0\n",
       "      }\n",
       "    }\n",
       "  }\n",
       "}\n",
       "node {\n",
       "  name: \"Const_1\"\n",
       "  op: \"Const\"\n",
       "  attr {\n",
       "    key: \"dtype\"\n",
       "    value {\n",
       "      type: DT_FLOAT\n",
       "    }\n",
       "  }\n",
       "  attr {\n",
       "    key: \"value\"\n",
       "    value {\n",
       "      tensor {\n",
       "        dtype: DT_FLOAT\n",
       "        tensor_shape {\n",
       "        }\n",
       "        float_val: 6.0\n",
       "      }\n",
       "    }\n",
       "  }\n",
       "}\n",
       "node {\n",
       "  name: \"mul\"\n",
       "  op: \"Mul\"\n",
       "  input: \"Const\"\n",
       "  input: \"Const_1\"\n",
       "  attr {\n",
       "    key: \"T\"\n",
       "    value {\n",
       "      type: DT_FLOAT\n",
       "    }\n",
       "  }\n",
       "}\n",
       "versions {\n",
       "  producer: 21\n",
       "}"
      ]
     },
     "execution_count": 5,
     "metadata": {},
     "output_type": "execute_result"
    }
   ],
   "source": [
    "my_graph.as_graph_def()"
   ]
  },
  {
   "cell_type": "markdown",
   "metadata": {},
   "source": [
    "**Session**\n",
    "\n",
    "A class for running TensorFlow operations.\n",
    "\n",
    "A Session object encapsulates the environment \n",
    "in which Operation objects are executed, and Tensor objects are evaluated."
   ]
  },
  {
   "cell_type": "code",
   "execution_count": 6,
   "metadata": {
    "collapsed": false
   },
   "outputs": [
    {
     "name": "stdout",
     "output_type": "stream",
     "text": [
      "5.0\n",
      "6.0\n",
      "30.0\n"
     ]
    }
   ],
   "source": [
    "with tf.Session(graph=my_graph) as sess:\n",
    "    a = a.eval()\n",
    "    b = sess.run(b)\n",
    "    c = sess.run(c)    \n",
    "    print(a)\n",
    "    print(b)\n",
    "    print(c)"
   ]
  },
  {
   "cell_type": "markdown",
   "metadata": {},
   "source": [
    "# Session vs InteractiveSession\n",
    "You sometimes see InteractiveSession instead of Session\n",
    "The only difference is an InteractiveSession makes itself the default"
   ]
  },
  {
   "cell_type": "code",
   "execution_count": 7,
   "metadata": {
    "collapsed": false
   },
   "outputs": [
    {
     "name": "stdout",
     "output_type": "stream",
     "text": [
      "Tensor(\"a:0\", shape=(2, 2), dtype=float32)\n",
      "Tensor(\"b:0\", shape=(2, 3), dtype=float32)\n",
      "Tensor(\"c:0\", shape=(2, 3), dtype=float32)\n"
     ]
    }
   ],
   "source": [
    "sess = tf.InteractiveSession()\n",
    "a = tf.constant([[2,2],[-8.3,20]],name =\"a\")\n",
    "b = tf.constant([[1,2,4],[-1.1,2.2,4.3]],name =\"b\")\n",
    "c = tf.matmul(a,b,name =\"c\")\n",
    "d = tf.constant([1,2,3,4,5,6,6,7,7,7,7,8,7,656,4])\n",
    "e = tf.reduce_mean(d)\n",
    "f = tf.reduce_max(d)\n",
    "g = tf.reduce_sum(d)\n",
    "print(a)\n",
    "print(b)\n",
    "print(c)"
   ]
  },
  {
   "cell_type": "code",
   "execution_count": 8,
   "metadata": {
    "collapsed": false
   },
   "outputs": [
    {
     "name": "stdout",
     "output_type": "stream",
     "text": [
      "new =  <tensorflow.python.framework.ops.Graph object at 0x7fb6627a6240>\n",
      "old =  <tensorflow.python.framework.ops.Graph object at 0x7fb6627f1b38>\n"
     ]
    }
   ],
   "source": [
    "new = c.graph\n",
    "print(\"new = \", new)\n",
    "print(\"old = \", old)"
   ]
  },
  {
   "cell_type": "code",
   "execution_count": 9,
   "metadata": {
    "collapsed": false
   },
   "outputs": [
    {
     "name": "stdout",
     "output_type": "stream",
     "text": [
      "matrix multiplication  = [[ -0.20000005   8.39999962  16.60000038]\n",
      " [-30.29999924  27.39999962  52.79999924]]\n",
      "\n",
      "mean  =  48\n",
      "max  =  656\n",
      "sum  =  730\n"
     ]
    }
   ],
   "source": [
    "print(\"matrix multiplication  = {}\\n\".format(c.eval()))\n",
    "print(\"mean  = \",e.eval())\n",
    "print(\"max  = \",f.eval())\n",
    "print(\"sum  = \",g.eval())\n",
    "sess.close()"
   ]
  },
  {
   "cell_type": "code",
   "execution_count": 10,
   "metadata": {
    "collapsed": false,
    "deletable": true,
    "editable": true
   },
   "outputs": [
    {
     "name": "stdout",
     "output_type": "stream",
     "text": [
      "\n",
      "&&&&&&&&& For TensorBoard visualization type &&&&&&&&&&&\n",
      "\n",
      "tensorboard  --logdir=./graphs/07-05-2017_21-42-18\n",
      "\n",
      "5.0\n"
     ]
    }
   ],
   "source": [
    "my_graph = tf.Graph()\n",
    "with my_graph.as_default():\n",
    "    a = tf.constant(5.0,name=\"a\")\n",
    "    b = tf.constant(6.0,name=\"b\")\n",
    "    c = tf.multiply(a,b,name=\"c\")\n",
    "with tf.Session(graph=my_graph) as sess:\n",
    "    log_path = newlogname()\n",
    "    print(\"\\n&&&&&&&&& For TensorBoard visualization type &&&&&&&&&&&\")\n",
    "    print(\"\\ntensorboard  --logdir={}\\n\".format(log_path))\n",
    "    writer = tf.summary.FileWriter(log_path, sess.graph)\n",
    "    print(sess.run(a))"
   ]
  },
  {
   "cell_type": "code",
   "execution_count": 11,
   "metadata": {
    "collapsed": false,
    "deletable": true,
    "editable": true
   },
   "outputs": [],
   "source": [
    "# !tensorboard --logdir=./graphs/06-05-2017_20-03-44"
   ]
  },
  {
   "cell_type": "markdown",
   "metadata": {
    "deletable": true,
    "editable": true
   },
   "source": [
    "# Tensors with values \n",
    "- tf.zeros : creates a tensor of shape and all elements will be zeros (when ran in session)\n",
    "- tf.zeros_like : creates a tensor of shape and type (unless type is specified) as the input_tensor but all elements are zeros.\n",
    "- tf.ones :  similar as above but with 1.\n",
    "- tf.ones_like : similar as above but with 1.\n",
    "- tf.fill : creates a tensor filled with a scalar value"
   ]
  },
  {
   "cell_type": "code",
   "execution_count": 12,
   "metadata": {
    "collapsed": false,
    "deletable": true,
    "editable": true
   },
   "outputs": [
    {
     "name": "stdout",
     "output_type": "stream",
     "text": [
      "[[0 0 0]\n",
      " [0 0 0]] \n",
      "\n",
      "[[0 0]\n",
      " [0 0]] \n",
      "\n",
      "[[1 1 1]\n",
      " [1 1 1]] \n",
      "\n",
      "[[1 1]\n",
      " [1 1]] \n",
      "\n",
      "[[69 69 69]\n",
      " [69 69 69]] \n",
      "\n"
     ]
    }
   ],
   "source": [
    "graph = tf.Graph() \n",
    "with graph.as_default():\n",
    "    zeros1 = tf.zeros([2, 3], tf.int32, name=\"zeros1\") \n",
    "    input_tensor = tf.constant([[0, 1],[0, 1]], name=\"input\")\n",
    "    zeros2 = tf.zeros_like(input_tensor, name=\"zeros2\")\n",
    "    ones1 = tf.ones([2, 3], tf.int32, name=\"ones1\") \n",
    "    ones2 = tf.ones_like(input_tensor, name=\"ones2\")\n",
    "    only69 = tf.fill([2, 3], 69,name=\"only69\") \n",
    "with tf.Session(graph=graph) as sess:\n",
    "    x1,x2,x3,x4,x5 = sess.run([zeros1,\n",
    "                               zeros2,\n",
    "                               ones1,\n",
    "                               ones2,\n",
    "                               only69])\n",
    "    print(x1,\"\\n\")\n",
    "    print(x2,\"\\n\")\n",
    "    print(x3,\"\\n\")\n",
    "    print(x4,\"\\n\")\n",
    "    print(x5,\"\\n\")            \n"
   ]
  },
  {
   "cell_type": "markdown",
   "metadata": {
    "deletable": true,
    "editable": true
   },
   "source": [
    "# Variables\n",
    "\n",
    "A variable maintains state in the graph across calls to run(). You add a variable to the graph by constructing an instance of the class Variable.\n",
    "\n",
    "The Variable() constructor requires an initial value for the variable, which can be a Tensor of any type and shape. The initial value defines the type and shape of the variable. After construction, the type and shape of the variable are fixed. The value can be changed using one of the assign methods.\n",
    "\n",
    "\n",
    "**Why tf.constant but tf.Variable and not\n",
    "tf.variable?**\n",
    "\n",
    "tf.Variable is a class, but tf.constant is an op\n",
    "\n",
    "We use **tf.global_variables_initializer()** to initialize all variables.\n",
    "\n",
    "But we can also initialize only a subset of variables using **tf.variables_initializer**\n",
    "\n",
    "Or initialaze a single variable using the method **initializer*"
   ]
  },
  {
   "cell_type": "code",
   "execution_count": 13,
   "metadata": {
    "collapsed": false,
    "deletable": true,
    "editable": true
   },
   "outputs": [
    {
     "name": "stdout",
     "output_type": "stream",
     "text": [
      "2 \n",
      "\n",
      "[2 3] \n",
      "\n",
      "[[0 1]\n",
      " [2 3]] \n",
      "\n",
      "[[ 0.  0.  0. ...,  0.  0.  0.]\n",
      " [ 0.  0.  0. ...,  0.  0.  0.]\n",
      " [ 0.  0.  0. ...,  0.  0.  0.]\n",
      " ..., \n",
      " [ 0.  0.  0. ...,  0.  0.  0.]\n",
      " [ 0.  0.  0. ...,  0.  0.  0.]\n",
      " [ 0.  0.  0. ...,  0.  0.  0.]] \n",
      "\n"
     ]
    }
   ],
   "source": [
    "graph = tf.Graph() \n",
    "with graph.as_default():\n",
    "    a = tf.Variable(2, name=\"scalar\")\n",
    "    b = tf.Variable([2, 3], name=\"vector\")\n",
    "    c = tf.Variable([[0, 1], [2, 3]], name=\"matrix\")\n",
    "    W = tf.Variable(tf.zeros([784,10]))\n",
    "    init = tf.global_variables_initializer()\n",
    "with tf.Session(graph=graph) as sess:\n",
    "    sess.run(init)\n",
    "    x1, x2, x3, x4 = sess.run([a,b,c,W])\n",
    "    print(x1,\"\\n\")\n",
    "    print(x2,\"\\n\")\n",
    "    print(x3,\"\\n\")\n",
    "    print(x4,\"\\n\")"
   ]
  },
  {
   "cell_type": "code",
   "execution_count": 14,
   "metadata": {
    "collapsed": false
   },
   "outputs": [
    {
     "name": "stdout",
     "output_type": "stream",
     "text": [
      "[[-0.24306829 -0.17629932]\n",
      " [ 1.72148156 -0.13534911]]\n"
     ]
    }
   ],
   "source": [
    "graph = tf.Graph() \n",
    "with graph.as_default():\n",
    "    W = tf.Variable(tf.truncated_normal([2, 2]))\n",
    "    x = tf.constant([[0, 1],[-1, 0]],dtype = \"float32\")\n",
    "    result = tf.matmul(W,x)\n",
    "with tf.Session(graph=graph) as sess:\n",
    "    sess.run(W.initializer)\n",
    "    result = sess.run(result)\n",
    "    print(result)"
   ]
  },
  {
   "cell_type": "markdown",
   "metadata": {
    "deletable": true,
    "editable": true
   },
   "source": [
    "**Methods to assign values to a variable: assign(), assign_add() and assign_sub()**\n",
    "\n",
    "\n",
    "this operation needs to be run to take effect"
   ]
  },
  {
   "cell_type": "code",
   "execution_count": 15,
   "metadata": {
    "collapsed": false,
    "deletable": true,
    "editable": true
   },
   "outputs": [
    {
     "name": "stdout",
     "output_type": "stream",
     "text": [
      "original W =  10.0\n",
      "first assign: W =  20.0\n",
      "second assign: W =  40.0\n",
      "third assign: W =  140.0\n",
      "fourth assign: W =  -60.0\n",
      "original W =  10.0\n"
     ]
    }
   ],
   "source": [
    "graph = tf.Graph() \n",
    "with graph.as_default():\n",
    "    W = tf.Variable(10.0)\n",
    "    assign_op = W.assign(2 * W)\n",
    "with tf.Session(graph=graph) as sess:\n",
    "    sess.run(W.initializer)\n",
    "    print(\"original W = \", W.eval())\n",
    "    sess.run(assign_op)\n",
    "    print(\"first assign: W = \",W.eval())\n",
    "    sess.run(assign_op)\n",
    "    print(\"second assign: W = \",W.eval())\n",
    "    sess.run(W.assign_add(100.)) \n",
    "    print(\"third assign: W = \",W.eval())\n",
    "    sess.run(W.assign_sub(200.)) \n",
    "    print(\"fourth assign: W = \",W.eval())\n",
    "with tf.Session(graph=graph) as sess:\n",
    "    sess.run(W.initializer)\n",
    "    print(\"original W = \", W.eval())\n"
   ]
  },
  {
   "cell_type": "markdown",
   "metadata": {
    "deletable": true,
    "editable": true
   },
   "source": [
    "** Each session maintains its own copy of\n",
    "variable **"
   ]
  },
  {
   "cell_type": "code",
   "execution_count": 16,
   "metadata": {
    "collapsed": false,
    "deletable": true,
    "editable": true
   },
   "outputs": [
    {
     "name": "stdout",
     "output_type": "stream",
     "text": [
      "First Session\n",
      "original W =  10.0\n",
      "first assign: W =  12.0\n",
      "\n",
      "Second Session\n",
      "original W =  10.0\n",
      "second assign: W =  8.0\n"
     ]
    }
   ],
   "source": [
    "graph = tf.Graph() \n",
    "with graph.as_default():\n",
    "    W = tf.Variable(10.)\n",
    "print(\"First Session\")\n",
    "with tf.Session(graph=graph) as sess:\n",
    "    sess.run(W.initializer)\n",
    "    print(\"original W = \", W.eval())\n",
    "    sess.run(W.assign_add(2.)) \n",
    "    print(\"first assign: W = \",W.eval())\n",
    "print(\"\\nSecond Session\")\n",
    "with tf.Session(graph=graph) as sess:\n",
    "    sess.run(W.initializer)\n",
    "    print(\"original W = \", W.eval())\n",
    "    sess.run(W.assign_sub(2.)) \n",
    "    print(\"second assign: W = \",W.eval())"
   ]
  },
  {
   "cell_type": "markdown",
   "metadata": {
    "collapsed": true,
    "deletable": true,
    "editable": true
   },
   "source": [
    "# Placeholders\n",
    "\n",
    "TensorFlow provides a placeholder operation that must be fed with data on execution. TensorFlow's feed mechanism lets you inject data into any Tensor in a computation graph. A python computation can thus feed data directly into the graph.\n",
    "\n",
    "Supply feed data through the feed_dict argument to a run() or eval() call that initiates computation.\n",
    "\n",
    "While you can replace any Tensor with feed data, including variables and constants, the best practice is to use a placeholder op node. A placeholder exists solely to serve as the target of feeds. It is not initialized and contains no data. A placeholder generates an error if it is executed without a feed, so you won't forget to feed it.\n",
    "\n",
    "\n",
    "**Quirk:**\n",
    "- shape=None means that tensor of any shape will be accepted as value for  placeholder.\n",
    "- shape=None is easy to construct graphs, but nightmarish for debugging\n",
    "-  shape=None also breaks all following  shape inference, which makes many ops not work because they expect certain rank\n"
   ]
  },
  {
   "cell_type": "code",
   "execution_count": 17,
   "metadata": {
    "collapsed": false,
    "deletable": true,
    "editable": true
   },
   "outputs": [
    {
     "name": "stdout",
     "output_type": "stream",
     "text": [
      "[ 6.  7.  8.]\n",
      "[ 2.  4.  6.]\n"
     ]
    }
   ],
   "source": [
    "graph = tf.Graph() \n",
    "with graph.as_default():\n",
    "    a = tf.placeholder(tf.float32, shape=[3])\n",
    "    b = tf.constant([5, 5, 5], tf.float32)\n",
    "    c = a + b \n",
    "with tf.Session(graph=graph) as sess:\n",
    "    all_dict = {0:{a: [1, 2, 3]}, 1:{a: [1, 2, 3], b:[1, 2, 3]}}\n",
    "    for i in [0,1]:\n",
    "        feed_dict = all_dict[i]\n",
    "        result = sess.run(c,feed_dict=feed_dict)\n",
    "        print(result)"
   ]
  },
  {
   "cell_type": "markdown",
   "metadata": {
    "deletable": true,
    "editable": true
   },
   "source": [
    "# Lazy loading\n",
    "\n",
    "## Lazy loading = Defer creating/initializing an object until it is needed\n",
    "\n",
    "As you can see in the examples [18] and [19], the result is the same. But in [18] the add node is already on the graph and in [19] the node add is added 5 times to the graph definition. **As a result your graph gets bloated, slow to load and expensive to pass around.**"
   ]
  },
  {
   "cell_type": "code",
   "execution_count": 18,
   "metadata": {
    "collapsed": false,
    "deletable": true,
    "editable": true
   },
   "outputs": [
    {
     "name": "stdout",
     "output_type": "stream",
     "text": [
      "11.0\n",
      "11.0\n",
      "11.0\n",
      "11.0\n",
      "11.0\n"
     ]
    }
   ],
   "source": [
    "graph1 = tf.Graph() \n",
    "with graph1.as_default():\n",
    "    a = tf.constant(5.0)\n",
    "    b = tf.constant(6.0)\n",
    "    c = tf.add(a, b) # the node is created before executing the graph\n",
    "with tf.Session(graph=graph1) as sess:\n",
    "    sess.run(tf.global_variables_initializer())\n",
    "    for _ in range(5):\n",
    "        print(sess.run(c))"
   ]
  },
  {
   "cell_type": "code",
   "execution_count": 19,
   "metadata": {
    "collapsed": false,
    "deletable": true,
    "editable": true
   },
   "outputs": [
    {
     "name": "stdout",
     "output_type": "stream",
     "text": [
      "11.0\n",
      "11.0\n",
      "11.0\n",
      "11.0\n",
      "11.0\n"
     ]
    }
   ],
   "source": [
    "graph2 = tf.Graph() \n",
    "with graph2.as_default():\n",
    "    a = tf.constant(5.0)\n",
    "    b = tf.constant(6.0)\n",
    "with tf.Session(graph=graph2) as sess:\n",
    "    sess.run(tf.global_variables_initializer())\n",
    "    for _ in range(5):\n",
    "        print(sess.run(tf.add(a, b)))  # the node is created while executing the graph"
   ]
  },
  {
   "cell_type": "code",
   "execution_count": 20,
   "metadata": {
    "collapsed": false
   },
   "outputs": [
    {
     "data": {
      "text/plain": [
       "node {\n",
       "  name: \"Const\"\n",
       "  op: \"Const\"\n",
       "  attr {\n",
       "    key: \"dtype\"\n",
       "    value {\n",
       "      type: DT_FLOAT\n",
       "    }\n",
       "  }\n",
       "  attr {\n",
       "    key: \"value\"\n",
       "    value {\n",
       "      tensor {\n",
       "        dtype: DT_FLOAT\n",
       "        tensor_shape {\n",
       "        }\n",
       "        float_val: 5.0\n",
       "      }\n",
       "    }\n",
       "  }\n",
       "}\n",
       "node {\n",
       "  name: \"Const_1\"\n",
       "  op: \"Const\"\n",
       "  attr {\n",
       "    key: \"dtype\"\n",
       "    value {\n",
       "      type: DT_FLOAT\n",
       "    }\n",
       "  }\n",
       "  attr {\n",
       "    key: \"value\"\n",
       "    value {\n",
       "      tensor {\n",
       "        dtype: DT_FLOAT\n",
       "        tensor_shape {\n",
       "        }\n",
       "        float_val: 6.0\n",
       "      }\n",
       "    }\n",
       "  }\n",
       "}\n",
       "node {\n",
       "  name: \"Add\"\n",
       "  op: \"Add\"\n",
       "  input: \"Const\"\n",
       "  input: \"Const_1\"\n",
       "  attr {\n",
       "    key: \"T\"\n",
       "    value {\n",
       "      type: DT_FLOAT\n",
       "    }\n",
       "  }\n",
       "}\n",
       "node {\n",
       "  name: \"init\"\n",
       "  op: \"NoOp\"\n",
       "}\n",
       "versions {\n",
       "  producer: 21\n",
       "}"
      ]
     },
     "execution_count": 20,
     "metadata": {},
     "output_type": "execute_result"
    }
   ],
   "source": [
    "graph1.as_graph_def()"
   ]
  },
  {
   "cell_type": "code",
   "execution_count": 21,
   "metadata": {
    "collapsed": false
   },
   "outputs": [
    {
     "data": {
      "text/plain": [
       "node {\n",
       "  name: \"Const\"\n",
       "  op: \"Const\"\n",
       "  attr {\n",
       "    key: \"dtype\"\n",
       "    value {\n",
       "      type: DT_FLOAT\n",
       "    }\n",
       "  }\n",
       "  attr {\n",
       "    key: \"value\"\n",
       "    value {\n",
       "      tensor {\n",
       "        dtype: DT_FLOAT\n",
       "        tensor_shape {\n",
       "        }\n",
       "        float_val: 5.0\n",
       "      }\n",
       "    }\n",
       "  }\n",
       "}\n",
       "node {\n",
       "  name: \"Const_1\"\n",
       "  op: \"Const\"\n",
       "  attr {\n",
       "    key: \"dtype\"\n",
       "    value {\n",
       "      type: DT_FLOAT\n",
       "    }\n",
       "  }\n",
       "  attr {\n",
       "    key: \"value\"\n",
       "    value {\n",
       "      tensor {\n",
       "        dtype: DT_FLOAT\n",
       "        tensor_shape {\n",
       "        }\n",
       "        float_val: 6.0\n",
       "      }\n",
       "    }\n",
       "  }\n",
       "}\n",
       "node {\n",
       "  name: \"init\"\n",
       "  op: \"NoOp\"\n",
       "}\n",
       "node {\n",
       "  name: \"Add\"\n",
       "  op: \"Add\"\n",
       "  input: \"Const\"\n",
       "  input: \"Const_1\"\n",
       "  attr {\n",
       "    key: \"T\"\n",
       "    value {\n",
       "      type: DT_FLOAT\n",
       "    }\n",
       "  }\n",
       "}\n",
       "node {\n",
       "  name: \"Add_1\"\n",
       "  op: \"Add\"\n",
       "  input: \"Const\"\n",
       "  input: \"Const_1\"\n",
       "  attr {\n",
       "    key: \"T\"\n",
       "    value {\n",
       "      type: DT_FLOAT\n",
       "    }\n",
       "  }\n",
       "}\n",
       "node {\n",
       "  name: \"Add_2\"\n",
       "  op: \"Add\"\n",
       "  input: \"Const\"\n",
       "  input: \"Const_1\"\n",
       "  attr {\n",
       "    key: \"T\"\n",
       "    value {\n",
       "      type: DT_FLOAT\n",
       "    }\n",
       "  }\n",
       "}\n",
       "node {\n",
       "  name: \"Add_3\"\n",
       "  op: \"Add\"\n",
       "  input: \"Const\"\n",
       "  input: \"Const_1\"\n",
       "  attr {\n",
       "    key: \"T\"\n",
       "    value {\n",
       "      type: DT_FLOAT\n",
       "    }\n",
       "  }\n",
       "}\n",
       "node {\n",
       "  name: \"Add_4\"\n",
       "  op: \"Add\"\n",
       "  input: \"Const\"\n",
       "  input: \"Const_1\"\n",
       "  attr {\n",
       "    key: \"T\"\n",
       "    value {\n",
       "      type: DT_FLOAT\n",
       "    }\n",
       "  }\n",
       "}\n",
       "versions {\n",
       "  producer: 21\n",
       "}"
      ]
     },
     "execution_count": 21,
     "metadata": {},
     "output_type": "execute_result"
    }
   ],
   "source": [
    "graph2.as_graph_def()"
   ]
  },
  {
   "cell_type": "code",
   "execution_count": null,
   "metadata": {
    "collapsed": true
   },
   "outputs": [],
   "source": []
  }
 ],
 "metadata": {
  "kernelspec": {
   "display_name": "Python 3",
   "language": "python",
   "name": "python3"
  },
  "language_info": {
   "codemirror_mode": {
    "name": "ipython",
    "version": 3
   },
   "file_extension": ".py",
   "mimetype": "text/x-python",
   "name": "python",
   "nbconvert_exporter": "python",
   "pygments_lexer": "ipython3",
   "version": "3.5.2"
  }
 },
 "nbformat": 4,
 "nbformat_minor": 2
}
