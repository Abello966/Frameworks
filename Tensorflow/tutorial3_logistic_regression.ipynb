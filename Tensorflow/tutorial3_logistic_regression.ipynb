{
 "cells": [
  {
   "cell_type": "markdown",
   "metadata": {},
   "source": [
    "# Tutorial3: Logistic Regression\n",
    "\n",
    "Simple logistic regression example in TensorFlow. Using the The [notMNIST](http://yaroslavvb.blogspot.com.br/2011/09/notmnist-dataset.html) dataset. Reference [cs20si](http://web.stanford.edu/class/cs20si/lectures/slides_03.pdf)"
   ]
  },
  {
   "cell_type": "code",
   "execution_count": 1,
   "metadata": {
    "collapsed": false
   },
   "outputs": [],
   "source": [
    "# All imports\n",
    "import numpy as np\n",
    "import matplotlib.pyplot as plt\n",
    "import tensorflow as tf\n",
    "import os\n",
    "from util import get_log_path, plot9images, get_data, get_batch\n",
    "\n",
    "%matplotlib inline\n"
   ]
  },
  {
   "cell_type": "markdown",
   "metadata": {},
   "source": [
    "### First we need to get the data. You can find the preprocessed data [here](https://www.dropbox.com/s/t5l172b417p9pf1/notMNIST.zip?dl=0)"
   ]
  },
  {
   "cell_type": "code",
   "execution_count": 2,
   "metadata": {
    "collapsed": false
   },
   "outputs": [],
   "source": [
    "# uncomment the code below to download and extract the data\n",
    "#! bash download.sh"
   ]
  },
  {
   "cell_type": "code",
   "execution_count": 3,
   "metadata": {
    "collapsed": false
   },
   "outputs": [
    {
     "name": "stdout",
     "output_type": "stream",
     "text": [
      "Training: (200000, 28, 28) (200000, 10)\n",
      "Validation: (10000, 28, 28) (10000, 10)\n",
      "Testing: (10000, 28, 28) (10000, 10)\n"
     ]
    }
   ],
   "source": [
    "train_dataset, train_labels, valid_dataset, valid_labels, test_dataset, test_labels = get_data()\n",
    "print('Training:', train_dataset.shape, train_labels.shape)\n",
    "print('Validation:', valid_dataset.shape, valid_labels.shape)\n",
    "print('Testing:', test_dataset.shape, test_labels.shape)"
   ]
  },
  {
   "cell_type": "markdown",
   "metadata": {},
   "source": [
    "### Visualizing some examples"
   ]
  },
  {
   "cell_type": "code",
   "execution_count": 4,
   "metadata": {
    "collapsed": false
   },
   "outputs": [
    {
     "data": {
      "image/png": "[encoded data removed]",
      "text/plain": [
       "<matplotlib.figure.Figure at 0x7f77c5c17e10>"
      ]
     },
     "metadata": {},
     "output_type": "display_data"
    }
   ],
   "source": [
    "train_classes = np.argmax(train_labels, axis=1)\n",
    "train_classes = [chr(i + ord('A')) for i in train_classes]\n",
    "img_size = 28\n",
    "img_shape = (img_size, img_size)\n",
    "images = train_dataset[0:9]\n",
    "cls_true = train_classes[0:9]\n",
    "plot9images(images, cls_true, img_shape)"
   ]
  },
  {
   "cell_type": "markdown",
   "metadata": {},
   "source": [
    "### As before, we use the class Config to store all the hyperparameters"
   ]
  },
  {
   "cell_type": "code",
   "execution_count": 5,
   "metadata": {
    "collapsed": true
   },
   "outputs": [],
   "source": [
    "class Config():\n",
    "    \"\"\"\n",
    "    Class to hold all model hyperparams.\n",
    "\n",
    "    :type learning_rate: float\n",
    "    :type batch_size: int\n",
    "    :type image_size: int\n",
    "    :type num_classes: int\n",
    "    :type num_features: int\n",
    "    :type num_epochs: int\n",
    "    :type show_epoch: int\n",
    "    :type log_path: None or str\n",
    "    \"\"\"\n",
    "    def __init__(self,\n",
    "                 learning_rate=0.001,\n",
    "                 image_size=28,\n",
    "                 batch_size=128,\n",
    "                 num_classes=10,\n",
    "                 num_features=784,\n",
    "                 num_epochs=101,\n",
    "                 show_epoch=10,\n",
    "                 log_path=None):\n",
    "\n",
    "        self.learning_rate = learning_rate\n",
    "        self.image_size = image_size\n",
    "        self.batch_size = batch_size\n",
    "        self.num_classes = num_classes\n",
    "        self.num_features = num_features\n",
    "        self.num_epochs = num_epochs\n",
    "        self.show_epoch = show_epoch\n",
    "        if log_path is None:\n",
    "            self.log_path = get_log_path()\n",
    "        else:\n",
    "            self.log_path = log_path"
   ]
  },
  {
   "cell_type": "markdown",
   "metadata": {},
   "source": [
    "###  We also use a class to store all the data information"
   ]
  },
  {
   "cell_type": "code",
   "execution_count": 6,
   "metadata": {
    "collapsed": true
   },
   "outputs": [],
   "source": [
    "class DataHolder:\n",
    "    \"\"\"\n",
    "    All data information\n",
    "\n",
    "    :type train_dataset: numpy array\n",
    "    :type train_labels: numpy array\n",
    "    :type valid_dataset: numpy array\n",
    "    :type valid_labels: numpy array\n",
    "    :type test_dataset: numpy array\n",
    "    :type test_labels: numpy array\n",
    "    \"\"\"\n",
    "    def __init__(self,\n",
    "                 train_dataset,\n",
    "                 train_labels,\n",
    "                 valid_dataset,\n",
    "                 valid_labels,\n",
    "                 test_dataset,\n",
    "                 test_labels):\n",
    "\n",
    "        self.train_dataset = train_dataset\n",
    "        self.train_labels = train_labels\n",
    "        self.valid_dataset = valid_dataset\n",
    "        self.valid_labels = valid_labels\n",
    "        self.test_dataset = test_dataset\n",
    "        self.test_labels = test_labels\n"
   ]
  },
  {
   "cell_type": "markdown",
   "metadata": {},
   "source": [
    "### Defining the logistic regression model as a tf graph"
   ]
  },
  {
   "cell_type": "code",
   "execution_count": 7,
   "metadata": {
    "collapsed": false
   },
   "outputs": [],
   "source": [
    "class LogisticRegression:\n",
    "    \"\"\"\n",
    "    Logistic regression model\n",
    "    \n",
    "    :type config: Config\n",
    "    \"\"\"\n",
    "    def __init__(self, config):\n",
    "\n",
    "        self.learning_rate = config.learning_rate\n",
    "        self.log_path = config.log_path\n",
    "        self.batch_size = config.batch_size\n",
    "        self.num_classes = config.num_classes\n",
    "        self.num_features = config.num_features \n",
    "        self.build_graph()\n",
    "\n",
    "    def create_placeholders(self):\n",
    "        \"\"\"\n",
    "        Method for creating placeholders for input X (image)\n",
    "        and label Y (one-hot vector).\n",
    "        \"\"\"\n",
    "        self.X = tf.placeholder(tf.float32,\n",
    "                                shape=(self.batch_size , self.num_features),\n",
    "                                name=\"X\")\n",
    "        self.Y = tf.placeholder(tf.float32,\n",
    "                                shape=(self.batch_size, self.num_classes),\n",
    "                                name=\"Y\")\n",
    "\n",
    "    def create_variables(self):\n",
    "        \"\"\"\n",
    "        Method for creating weight and bias variables.\n",
    "        \"\"\"\n",
    "        with tf.name_scope(\"Weights\"):\n",
    "            w_shape = (self.num_features, self.num_classes)\n",
    "            b_shape = (self.num_classes)\n",
    "            w_init = tf.zeros(w_shape)\n",
    "            b_init = tf.zeros(b_shape)\n",
    "            self.weight = tf.get_variable(\"w\", dtype=tf.float32, initializer=w_init)\n",
    "            self.bias = tf.get_variable(\"b\", dtype=tf.float32, initializer=b_init)\n",
    "\n",
    "    def create_summaries(self):\n",
    "        \"\"\"\n",
    "        Method to create the histogram summaries for all variables\n",
    "        \"\"\"\n",
    "        tf.summary.histogram('weights_summ', self.weight)\n",
    "        tf.summary.histogram('bias_summ', self.bias)\n",
    "\n",
    "    def create_logits(self):\n",
    "        \"\"\"\n",
    "        Method for creating logits: (X * W) + b\n",
    "        \"\"\"\n",
    "        with tf.name_scope(\"logits\"):\n",
    "            self.logits = tf.add(tf.matmul(self.X,self.weight),\n",
    "                                 self.bias,\n",
    "                                 name=\"logits\")\n",
    "\n",
    "    def create_loss(self):\n",
    "        \"\"\"\n",
    "        Method for calculating the loss function \n",
    "        unsing softmax and cross entropy.\n",
    "        \"\"\"\n",
    "        with tf.name_scope(\"loss\"):\n",
    "            entropy_loss = tf.nn.softmax_cross_entropy_with_logits(logits=self.logits,\n",
    "                                                                   labels=self.Y)\n",
    "            self.loss = tf.reduce_mean(entropy_loss)\n",
    "            tf.summary.scalar(\"loss\",self.loss)\n",
    "\n",
    "    def create_optimizer(self):\n",
    "        \"\"\"\n",
    "        Method to create the optimizer of the graph\n",
    "        \"\"\"\n",
    "        with tf.name_scope(\"optimizer\"):\n",
    "            opt = tf.train.GradientDescentOptimizer(self.learning_rate)\n",
    "            self.optimizer = opt.minimize(self.loss)\n",
    "\n",
    "    def create_predictions(self):\n",
    "        \"\"\"\n",
    "        Method to create the prediction for the placeholder.\n",
    "        \"\"\"\n",
    "        with tf.name_scope(\"prediction\"):\n",
    "            prob_prediction = tf.nn.softmax(self.logits,\n",
    "                                            name='X_prob_prediction')\n",
    "            self.prediction = tf.argmax(prob_prediction,\n",
    "                                        1,\n",
    "                                        name='X_prediction')\n",
    "            self.labes_cls = tf.argmax(self.Y,\n",
    "                                       1,\n",
    "                                       name='ground_truth')\n",
    "\n",
    "\n",
    "    def create_accuracy(self):\n",
    "        \"\"\"\n",
    "        Method to compute the accuracy of the model's predictions\n",
    "        \"\"\"\n",
    "        with tf.name_scope('accuracy'):\n",
    "            correct_pred = tf.equal(self.prediction,\n",
    "                                    self.labes_cls)\n",
    "            self.acc = tf.reduce_mean(tf.cast(correct_pred, 'float'))\n",
    "            tf.summary.scalar('accuracy', self.acc)\n",
    "\n",
    "    # Now we are going to save the variables after the training\n",
    "    def create_saver(self):\n",
    "        \"\"\"\n",
    "        Method to create the graph saver.\n",
    "        \"\"\"\n",
    "        self.saver = tf.train.Saver()\n",
    "        save_dir = 'checkpoints/'\n",
    "        if not os.path.exists(save_dir):\n",
    "            os.makedirs(save_dir)\n",
    "        self.save_path = os.path.join(save_dir, 'best_validation')\n",
    "            \n",
    "    def build_graph(self):\n",
    "        \"\"\"\n",
    "        Method to build the computation graph in tensorflow\n",
    "        \"\"\"\n",
    "        self.graph = tf.Graph()\n",
    "        with self.graph.as_default():\n",
    "            self.create_placeholders()\n",
    "            self.create_variables()\n",
    "            self.create_summaries()\n",
    "            self.create_logits()\n",
    "            self.create_loss()\n",
    "            self.create_optimizer()\n",
    "            self.create_predictions()\n",
    "            self.create_accuracy()\n",
    "            self.create_saver()\n"
   ]
  },
  {
   "cell_type": "markdown",
   "metadata": {},
   "source": [
    "Using tensorboard to visualize the graph:\n",
    "![image](./images/graph_logistic_regression.png)"
   ]
  },
  {
   "cell_type": "markdown",
   "metadata": {},
   "source": [
    "### Function to train the model"
   ]
  },
  {
   "cell_type": "code",
   "execution_count": 8,
   "metadata": {
    "collapsed": true
   },
   "outputs": [],
   "source": [
    "def run_training(model, config, dataholder, verbose=True):\n",
    "    \"\"\"\n",
    "    Train the logistic regression model\n",
    "\n",
    "    :type model: LogisticRegression\n",
    "    :type config: Config\n",
    "    :type dataholder: DataHolder\n",
    "    :type verbose: boolean\n",
    "    \"\"\"\n",
    "    train_data = dataholder.train_dataset\n",
    "    num_samples = train_data.shape[0]\n",
    "    num_features = config.num_features\n",
    "    train_data = train_data.reshape((num_samples, num_features))\n",
    "    train_labels = dataholder.train_labels\n",
    "    valid_data = dataholder.valid_dataset\n",
    "    valid_data = valid_data.reshape((valid_data.shape[0], num_features))\n",
    "    valid_labels = dataholder.valid_labels\n",
    "    batch_size = config.batch_size\n",
    "    show_epoch = config.show_epoch\n",
    "    num_epochs = config.num_epochs\n",
    "    log_path = model.log_path\n",
    "    with tf.Session(graph=model.graph) as sess:\n",
    "        if verbose:\n",
    "            print('Start training\\n')\n",
    "        summary_writer = tf.summary.FileWriter(log_path,sess.graph)\n",
    "        all_summaries = tf.summary.merge_all() \n",
    "        tf.global_variables_initializer().run()\n",
    "        step = 0\n",
    "        best_valid_acc = 0 \n",
    "        num_batches = int(num_samples/batch_size)\n",
    "        for i in range(num_epochs):\n",
    "            total_loss = 0\n",
    "            for _ in range(num_batches):\n",
    "                step += 1\n",
    "                X_batch, Y_batch = get_batch(train_data,\n",
    "                                             train_labels,\n",
    "                                             batch_size)\n",
    "                feed_dict = {model.X: X_batch, model.Y: Y_batch}\n",
    "                _, loss_batch, acc, summary = sess.run([model.optimizer,\n",
    "                                                        model.loss,\n",
    "                                                        model.acc,\n",
    "                                                        all_summaries],\n",
    "                                                  feed_dict=feed_dict)\n",
    "                summary_writer.add_summary(summary,step)\n",
    "                summary_writer.flush()\n",
    "                \n",
    "                total_loss += loss_batch\n",
    "            if i % show_epoch == 0:\n",
    "                X_batch_valid, Y_batch_valid = get_batch(valid_data,\n",
    "                                                         valid_labels,\n",
    "                                                         batch_size)\n",
    "                feed_dict = {model.X: X_batch_valid, model.Y: Y_batch_valid}\n",
    "                valid_acc = sess.run(model.acc,feed_dict=feed_dict)\n",
    "                print('Average loss epoch {0}: {1}'.format(i, total_loss/num_batches))\n",
    "                print('Minibatch acc epoch {}: {:.2f}%'.format(i, acc*100))\n",
    "                print('Valid minibatch acc epoch {}: {:.2f}%\\n'.format(i, valid_acc*100))\n",
    "                if valid_acc > best_valid_acc:\n",
    "                        best_valid_test = valid_acc\n",
    "                        model.saver.save(sess=sess,\n",
    "                                         save_path=model.save_path)\n",
    "        if verbose:\n",
    "            print(\"\\n========= For TensorBoard visualization type ===========\")\n",
    "            print(\"\\ntensorboard  --logdir={}\\n\".format(log_path))\n",
    "\n"
   ]
  },
  {
   "cell_type": "markdown",
   "metadata": {},
   "source": [
    "### Training the model"
   ]
  },
  {
   "cell_type": "code",
   "execution_count": 9,
   "metadata": {
    "collapsed": false
   },
   "outputs": [
    {
     "name": "stdout",
     "output_type": "stream",
     "text": [
      "Start training\n",
      "\n",
      "Average loss epoch 0: 1.4004583119506566\n",
      "Minibatch acc epoch 0: 78.12%\n",
      "Valid minibatch acc epoch 0: 72.66%\n",
      "\n",
      "Average loss epoch 10: 0.7023494824213805\n",
      "Minibatch acc epoch 10: 90.62%\n",
      "Valid minibatch acc epoch 10: 85.16%\n",
      "\n",
      "Average loss epoch 20: 0.6746683462061436\n",
      "Minibatch acc epoch 20: 78.91%\n",
      "Valid minibatch acc epoch 20: 82.81%\n",
      "\n",
      "Average loss epoch 30: 0.6628305920031251\n",
      "Minibatch acc epoch 30: 82.03%\n",
      "Valid minibatch acc epoch 30: 82.03%\n",
      "\n",
      "Average loss epoch 40: 0.647111483080439\n",
      "Minibatch acc epoch 40: 88.28%\n",
      "Valid minibatch acc epoch 40: 81.25%\n",
      "\n",
      "Average loss epoch 50: 0.6460892685358717\n",
      "Minibatch acc epoch 50: 79.69%\n",
      "Valid minibatch acc epoch 50: 78.12%\n",
      "\n",
      "Average loss epoch 60: 0.64580037441968\n",
      "Minibatch acc epoch 60: 79.69%\n",
      "Valid minibatch acc epoch 60: 80.47%\n",
      "\n",
      "Average loss epoch 70: 0.637868017969455\n",
      "Minibatch acc epoch 70: 87.50%\n",
      "Valid minibatch acc epoch 70: 83.59%\n",
      "\n",
      "Average loss epoch 80: 0.6345975462361578\n",
      "Minibatch acc epoch 80: 85.16%\n",
      "Valid minibatch acc epoch 80: 80.47%\n",
      "\n",
      "Average loss epoch 90: 0.634253159604213\n",
      "Minibatch acc epoch 90: 80.47%\n",
      "Valid minibatch acc epoch 90: 84.38%\n",
      "\n",
      "Average loss epoch 100: 0.6328015230720083\n",
      "Minibatch acc epoch 100: 80.47%\n",
      "Valid minibatch acc epoch 100: 79.69%\n",
      "\n",
      "\n",
      "========= For TensorBoard visualization type ===========\n",
      "\n",
      "tensorboard  --logdir=./graphs/08-05-2017_21-33-53\n",
      "\n"
     ]
    }
   ],
   "source": [
    "my_config = Config()\n",
    "my_model = LogisticRegression(my_config)\n",
    "my_dataholder = DataHolder(train_dataset,\n",
    "                           train_labels,\n",
    "                           valid_dataset,\n",
    "                           valid_labels,\n",
    "                           test_dataset,\n",
    "                           test_labels)\n",
    "\n",
    "run_training(my_model, my_config, my_dataholder)"
   ]
  },
  {
   "cell_type": "code",
   "execution_count": 10,
   "metadata": {
    "collapsed": false
   },
   "outputs": [],
   "source": [
    "# ! tensorboard  --logdir="
   ]
  },
  {
   "cell_type": "markdown",
   "metadata": {
    "collapsed": false
   },
   "source": [
    "### Now that we have trained the model and save it variables in the folder \"checkpoints\"  we can use it to predict the labels of some images from the test dataset"
   ]
  },
  {
   "cell_type": "code",
   "execution_count": 11,
   "metadata": {
    "collapsed": false
   },
   "outputs": [],
   "source": [
    "def prediction(model, config, dataholder):\n",
    "    \"\"\"\n",
    "    Generate some predictions using a batch from the test dataset\n",
    "\n",
    "    :type model: LogisticRegression\n",
    "    :type config: Config\n",
    "    :type dataholder: DataHolder\n",
    "    :rtype images: np array\n",
    "    :rtype prediction: np array\n",
    "    :rtype ground_truth: np array\n",
    "    \"\"\"\n",
    "    num_features = config.num_features\n",
    "    test_data = dataholder.test_dataset\n",
    "    test_data = test_data.reshape((test_data.shape[0], num_features))\n",
    "    test_labels = dataholder.test_labels\n",
    "    batch_size = config.batch_size\n",
    "    img_size = config.image_size\n",
    "    with tf.Session(graph=model.graph) as sess:\n",
    "        # We load the saved variables\n",
    "        model.saver.restore(sess=sess, save_path=model.save_path)\n",
    "        X_batch, Y_batch = get_batch(test_data,\n",
    "                                     test_labels,\n",
    "                                     batch_size)\n",
    "        feed_dict = {model.X: X_batch, model.Y: Y_batch}\n",
    "        acc, predictions = sess.run([model.acc,\n",
    "                                  model.prediction],\n",
    "                                  feed_dict=feed_dict)\n",
    "        print('Test minibatch acc {:.2f}%'.format(acc*100))\n",
    "    ground_truth = np.argmax(Y_batch, axis=1)\n",
    "    images = X_batch.reshape((X_batch.shape[0], img_size, img_size))\n",
    "    return images, predictions, ground_truth "
   ]
  },
  {
   "cell_type": "code",
   "execution_count": 12,
   "metadata": {
    "collapsed": false
   },
   "outputs": [
    {
     "name": "stdout",
     "output_type": "stream",
     "text": [
      "Test minibatch acc 86.72%\n"
     ]
    }
   ],
   "source": [
    "images, batch_prediction, batch_ground_truth = prediction(my_model,\n",
    "                                                          my_config,\n",
    "                                                          my_dataholder)"
   ]
  },
  {
   "cell_type": "markdown",
   "metadata": {
    "collapsed": true
   },
   "source": [
    "### And we can see if our predictions make sense"
   ]
  },
  {
   "cell_type": "code",
   "execution_count": 13,
   "metadata": {
    "collapsed": false
   },
   "outputs": [
    {
     "data": {
      "image/png": "[encoded data removed]",
      "text/plain": [
       "<matplotlib.figure.Figure at 0x7f77c55abf28>"
      ]
     },
     "metadata": {},
     "output_type": "display_data"
    }
   ],
   "source": [
    "batch_prediction = [chr(i + ord('A')) for i in batch_prediction]\n",
    "batch_ground_truth = [chr(i + ord('A')) for i in batch_ground_truth]\n",
    "images = images[0:9]\n",
    "cls_true = batch_ground_truth[0:9]\n",
    "cls_pred = batch_prediction[0:9] \n",
    "plot9images(images, cls_true, img_shape,cls_pred)"
   ]
  }
 ],
 "metadata": {
  "kernelspec": {
   "display_name": "Python 3",
   "language": "python",
   "name": "python3"
  },
  "language_info": {
   "codemirror_mode": {
    "name": "ipython",
    "version": 3
   },
   "file_extension": ".py",
   "mimetype": "text/x-python",
   "name": "python",
   "nbconvert_exporter": "python",
   "pygments_lexer": "ipython3",
   "version": "3.5.2"
  }
 },
 "nbformat": 4,
 "nbformat_minor": 1
}
