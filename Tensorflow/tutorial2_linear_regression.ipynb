{
 "cells": [
  {
   "cell_type": "markdown",
   "metadata": {
    "deletable": true,
    "editable": true
   },
   "source": [
    "# Tutorial2: Linear Regression\n",
    "\n",
    "Simple linear regression example in TensorFlow. \n",
    "Reference [cs20si](http://web.stanford.edu/class/cs20si/lectures/slides_03.pdf)"
   ]
  },
  {
   "cell_type": "code",
   "execution_count": 1,
   "metadata": {
    "collapsed": false
   },
   "outputs": [],
   "source": [
    "# All imports\n",
    "import numpy as np\n",
    "import matplotlib.pyplot as plt\n",
    "import tensorflow as tf\n",
    "from util import get_log_path\n",
    "import pandas as pd\n",
    "import shutil\n",
    "%matplotlib inline\n"
   ]
  },
  {
   "cell_type": "markdown",
   "metadata": {},
   "source": [
    "# Linear Regression\n",
    "\n",
    "Toy dataset  [Fire and Theft in Chicago](http://college.cengage.com/mathematics/brase/understandable_statistics/7e/students/datasets/slr/frames/frame.html)\n",
    "\n",
    "The dataset consist of pairs (X,Y) where\n",
    "\n",
    "- X = fires per 1000 housing units\n",
    "- Y = thefts per 1000 population\n",
    "\n",
    "\n",
    "within the same Zip code in the Chicago metro area.\n",
    "\n",
    "Reference: U.S. Commission on Civil Rights"
   ]
  },
  {
   "cell_type": "markdown",
   "metadata": {},
   "source": [
    "**Let us take a look in the dataset**"
   ]
  },
  {
   "cell_type": "code",
   "execution_count": 2,
   "metadata": {
    "collapsed": false,
    "deletable": true,
    "editable": true
   },
   "outputs": [
    {
     "data": {
      "text/html": [
       "<div>\n",
       "<table border=\"1\" class=\"dataframe\">\n",
       "  <thead>\n",
       "    <tr style=\"text-align: right;\">\n",
       "      <th></th>\n",
       "      <th>X</th>\n",
       "      <th>Y</th>\n",
       "    </tr>\n",
       "  </thead>\n",
       "  <tbody>\n",
       "    <tr>\n",
       "      <th>0</th>\n",
       "      <td>6.2</td>\n",
       "      <td>29</td>\n",
       "    </tr>\n",
       "    <tr>\n",
       "      <th>1</th>\n",
       "      <td>9.5</td>\n",
       "      <td>44</td>\n",
       "    </tr>\n",
       "    <tr>\n",
       "      <th>2</th>\n",
       "      <td>10.5</td>\n",
       "      <td>36</td>\n",
       "    </tr>\n",
       "    <tr>\n",
       "      <th>3</th>\n",
       "      <td>7.7</td>\n",
       "      <td>37</td>\n",
       "    </tr>\n",
       "    <tr>\n",
       "      <th>4</th>\n",
       "      <td>8.6</td>\n",
       "      <td>53</td>\n",
       "    </tr>\n",
       "  </tbody>\n",
       "</table>\n",
       "</div>"
      ],
      "text/plain": [
       "      X   Y\n",
       "0   6.2  29\n",
       "1   9.5  44\n",
       "2  10.5  36\n",
       "3   7.7  37\n",
       "4   8.6  53"
      ]
     },
     "execution_count": 2,
     "metadata": {},
     "output_type": "execute_result"
    }
   ],
   "source": [
    "df = pd.read_excel('data/fire_theft.xls')\n",
    "my_data = df.as_matrix()\n",
    "df.head()"
   ]
  },
  {
   "cell_type": "code",
   "execution_count": 3,
   "metadata": {
    "collapsed": false
   },
   "outputs": [
    {
     "data": {
      "text/html": [
       "<div>\n",
       "<table border=\"1\" class=\"dataframe\">\n",
       "  <thead>\n",
       "    <tr style=\"text-align: right;\">\n",
       "      <th></th>\n",
       "      <th>X</th>\n",
       "      <th>Y</th>\n",
       "    </tr>\n",
       "  </thead>\n",
       "  <tbody>\n",
       "    <tr>\n",
       "      <th>count</th>\n",
       "      <td>42.000000</td>\n",
       "      <td>42.000000</td>\n",
       "    </tr>\n",
       "    <tr>\n",
       "      <th>mean</th>\n",
       "      <td>12.692857</td>\n",
       "      <td>33.666667</td>\n",
       "    </tr>\n",
       "    <tr>\n",
       "      <th>std</th>\n",
       "      <td>9.667683</td>\n",
       "      <td>23.040438</td>\n",
       "    </tr>\n",
       "    <tr>\n",
       "      <th>min</th>\n",
       "      <td>2.000000</td>\n",
       "      <td>4.000000</td>\n",
       "    </tr>\n",
       "    <tr>\n",
       "      <th>25%</th>\n",
       "      <td>5.625000</td>\n",
       "      <td>22.000000</td>\n",
       "    </tr>\n",
       "    <tr>\n",
       "      <th>50%</th>\n",
       "      <td>10.500000</td>\n",
       "      <td>31.000000</td>\n",
       "    </tr>\n",
       "    <tr>\n",
       "      <th>75%</th>\n",
       "      <td>17.175000</td>\n",
       "      <td>39.750000</td>\n",
       "    </tr>\n",
       "    <tr>\n",
       "      <th>max</th>\n",
       "      <td>39.700000</td>\n",
       "      <td>147.000000</td>\n",
       "    </tr>\n",
       "  </tbody>\n",
       "</table>\n",
       "</div>"
      ],
      "text/plain": [
       "               X           Y\n",
       "count  42.000000   42.000000\n",
       "mean   12.692857   33.666667\n",
       "std     9.667683   23.040438\n",
       "min     2.000000    4.000000\n",
       "25%     5.625000   22.000000\n",
       "50%    10.500000   31.000000\n",
       "75%    17.175000   39.750000\n",
       "max    39.700000  147.000000"
      ]
     },
     "execution_count": 3,
     "metadata": {},
     "output_type": "execute_result"
    }
   ],
   "source": [
    "df.describe()"
   ]
  },
  {
   "cell_type": "markdown",
   "metadata": {},
   "source": [
    "### We use the class Config to store all the hyperparameters"
   ]
  },
  {
   "cell_type": "code",
   "execution_count": 4,
   "metadata": {
    "collapsed": true
   },
   "outputs": [],
   "source": [
    "class Config():\n",
    "    \"\"\"\n",
    "    Class to hold all model hyperparams.\n",
    "    :type learning_rate: float\n",
    "    :type delta: float\n",
    "    :type huber: boolean\n",
    "    :type num_epochs: int\n",
    "    :type show_epoch: int\n",
    "    :type log_path: None or str\n",
    "    \"\"\"\n",
    "    def __init__(self,\n",
    "                 learning_rate=0.001,\n",
    "                 delta=1.0,\n",
    "                 huber=False,\n",
    "                 num_epochs=101,\n",
    "                 show_epoch=10,\n",
    "                 log_path=None):\n",
    "        self.learning_rate = learning_rate\n",
    "        self.delta = delta\n",
    "        self.huber = huber\n",
    "        self.num_epochs = num_epochs\n",
    "        self.show_epoch = show_epoch\n",
    "        if log_path is None:\n",
    "            self.log_path = get_log_path()\n",
    "        else:\n",
    "            self.log_path = log_path"
   ]
  },
  {
   "cell_type": "markdown",
   "metadata": {},
   "source": [
    "### Defining the linear regression model as a tf graph"
   ]
  },
  {
   "cell_type": "code",
   "execution_count": 5,
   "metadata": {
    "collapsed": false
   },
   "outputs": [],
   "source": [
    "class LinearRegression:\n",
    "    \"\"\"\n",
    "    Class for the linear regression model\n",
    "    \n",
    "    :type config: Config\n",
    "    \"\"\"\n",
    "    def __init__(self, config):\n",
    "        self.learning_rate = config.learning_rate\n",
    "        self.delta = config.delta\n",
    "        self.huber = config.huber\n",
    "        self.log_path = config.log_path\n",
    "        self.build_graph()\n",
    "\n",
    "    def create_placeholders(self):\n",
    "        \"\"\"\n",
    "        Method for creating placeholders for input X (number of fire)\n",
    "        and label Y (number of theft).\n",
    "        \"\"\"\n",
    "        self.number_fire = tf.placeholder(tf.float32, shape=[], name=\"X\")\n",
    "        self.number_theft = tf.placeholder(tf.float32, shape=[], name=\"Y\")\n",
    "\n",
    "    def create_variables(self):\n",
    "        \"\"\"\n",
    "        Method for creating weight and bias variables.\n",
    "        \"\"\"\n",
    "        with tf.name_scope(\"Weights\"):\n",
    "            self.weight = tf.get_variable(\"w\", dtype=tf.float32, initializer=0.)\n",
    "            self.bias = tf.get_variable(\"b\", dtype=tf.float32, initializer=0.)\n",
    "\n",
    "    def create_summaries(self):\n",
    "        \"\"\"\n",
    "        Method to create the histogram summaries for all variables\n",
    "        \"\"\"\n",
    "        tf.summary.histogram('weights_summ', self.weight)\n",
    "        tf.summary.histogram('bias_summ', self.bias)\n",
    "\n",
    "    def create_prediction(self):\n",
    "        \"\"\"\n",
    "        Method for creating the linear regression prediction.\n",
    "        \"\"\"\n",
    "        with tf.name_scope(\"linear-model\"):\n",
    "            self.prediction = (self.number_fire * self.weight) + self.bias\n",
    "\n",
    "    def create_MSE_loss(self):\n",
    "        \"\"\"\n",
    "        Method for creating the mean square error loss function.\n",
    "        \"\"\"\n",
    "        with tf.name_scope(\"loss\"):\n",
    "            self.loss = tf.square(self.prediction - self.number_theft)\n",
    "            tf.summary.scalar(\"loss\", self.loss)\n",
    "\n",
    "    def create_Huber_loss(self):\n",
    "        \"\"\"\n",
    "        Method for creating the Huber loss function.\n",
    "        \"\"\"\n",
    "        with tf.name_scope(\"loss\"):\n",
    "            residual = tf.abs(self.prediction - self.number_theft)\n",
    "            condition = tf.less(residual, self.delta)\n",
    "            small_residual = 0.5 * tf.square(residual)\n",
    "            large_residual = self.delta * residual - 0.5 * tf.square(self.delta)\n",
    "            self.loss = tf.where(condition, small_residual, large_residual)\n",
    "            tf.summary.scalar(\"loss\", self.loss)\n",
    "\n",
    "    def create_optimizer(self):\n",
    "        \"\"\"\n",
    "        Method to create the optimizer of the graph\n",
    "        \"\"\"\n",
    "        with tf.name_scope(\"optimizer\"):\n",
    "            opt = tf.train.GradientDescentOptimizer(self.learning_rate)\n",
    "            self.optimizer = opt.minimize(self.loss)\n",
    "\n",
    "    def build_graph(self):\n",
    "        \"\"\"\n",
    "        Method to build the computation graph in tensorflow\n",
    "        \"\"\"\n",
    "        self.graph = tf.Graph()\n",
    "        with self.graph.as_default():\n",
    "            self.create_placeholders()\n",
    "            self.create_variables()\n",
    "            self.create_summaries()\n",
    "            self.create_prediction()\n",
    "            if self.huber:\n",
    "                self.create_Huber_loss()\n",
    "            else:\n",
    "                self.create_MSE_loss()\n",
    "            self.create_optimizer()\n"
   ]
  },
  {
   "cell_type": "markdown",
   "metadata": {},
   "source": [
    "In the graph above we defined two kinds of loss function. One of them is called [Huber loss](https://en.wikipedia.org/wiki/Huber_loss).\n",
    "\n",
    "A quick review:\n",
    "\n",
    "   \n",
    "- $L_{\\delta}(y,f(x)) =  \\frac{1}{2}(y-f(x))^{2}$ if $|y-f(x)|\\leq \\delta$\n",
    "\n",
    "- $L_{\\delta}(y,f(x)) =  \\delta|y-f(x)| -\\frac{1}{2}\\delta^{2}$ otherwise \n"
   ]
  },
  {
   "cell_type": "markdown",
   "metadata": {},
   "source": [
    "When we visualize the graph in tensorboard we find the following image:"
   ]
  },
  {
   "cell_type": "markdown",
   "metadata": {
    "collapsed": false
   },
   "source": [
    "![image](./images/graph_linear_regression.png)"
   ]
  },
  {
   "cell_type": "markdown",
   "metadata": {},
   "source": [
    "### Now we are going to define a function to train our model"
   ]
  },
  {
   "cell_type": "code",
   "execution_count": 6,
   "metadata": {
    "collapsed": true
   },
   "outputs": [],
   "source": [
    "def run_training(model, config, data, verbose=True):\n",
    "    \"\"\"\n",
    "    Function to train the linear regression model\n",
    "\n",
    "    :type model: LinearRegression\n",
    "    :type config: Config\n",
    "    :type data: np array\n",
    "    :type verbose: boolean\n",
    "    :rtype total_loss: float\n",
    "    :rtype w: float\n",
    "    :rtype b: float\n",
    "    \"\"\"\n",
    "    num_samples = data.shape[0]\n",
    "    num_epochs = config.num_epochs\n",
    "    show_epoch = config.show_epoch\n",
    "    log_path = model.log_path\n",
    "    with tf.Session(graph=model.graph) as sess:\n",
    "        if verbose:\n",
    "            print('Start training\\n')\n",
    "        # functions to write the tensorboard logs\n",
    "        summary_writer = tf.summary.FileWriter(log_path,sess.graph)\n",
    "        all_summaries = tf.summary.merge_all()\n",
    "        # initializing variables\n",
    "        tf.global_variables_initializer().run()\n",
    "        step = 0\n",
    "        for i in range(num_epochs): # run num_epochs epochs\n",
    "            total_loss = 0\n",
    "            for x, y in data:\n",
    "                step += 1\n",
    "                \n",
    "                feed_dict = {model.number_fire: x,\n",
    "                             model.number_theft: y}\n",
    "                \n",
    "                _,loss,summary,w,b = sess.run([model.optimizer, # run optimizer to perform minimization\n",
    "                                               model.loss,\n",
    "                                               all_summaries,\n",
    "                                               model.weight,\n",
    "                                               model.bias], feed_dict=feed_dict)\n",
    "\n",
    "                #writing the log\n",
    "                summary_writer.add_summary(summary,step)\n",
    "                summary_writer.flush()\n",
    "                \n",
    "                total_loss += loss\n",
    "            if i % show_epoch == 0:\n",
    "                print(\"\\nEpoch {0}: {1}\".format(i, total_loss/num_samples))\n",
    "    if verbose:\n",
    "        print(\"\\n========= For TensorBoard visualization type ===========\")\n",
    "        print(\"\\ntensorboard  --logdir={}\\n\".format(log_path))\n",
    "    return total_loss,w,b \n"
   ]
  },
  {
   "cell_type": "markdown",
   "metadata": {},
   "source": [
    "**Training the model**"
   ]
  },
  {
   "cell_type": "code",
   "execution_count": 7,
   "metadata": {
    "collapsed": false
   },
   "outputs": [
    {
     "name": "stdout",
     "output_type": "stream",
     "text": [
      "Start training\n",
      "\n",
      "\n",
      "Epoch 0: 2069.6319333978354\n",
      "\n",
      "Epoch 10: 1924.5930823644712\n",
      "\n",
      "Epoch 20: 1773.1024853109072\n",
      "\n",
      "Epoch 30: 1666.1935385839038\n",
      "\n",
      "Epoch 40: 1589.668056331575\n",
      "\n",
      "Epoch 50: 1534.211797797609\n",
      "\n",
      "Epoch 60: 1493.600210891061\n",
      "\n",
      "Epoch 70: 1463.5996563179153\n",
      "\n",
      "Epoch 80: 1441.2782130186733\n",
      "\n",
      "Epoch 90: 1424.5748210840281\n",
      "\n",
      "Epoch 100: 1412.0180716720365\n",
      "\n",
      "========= For TensorBoard visualization type ===========\n",
      "\n",
      "tensorboard  --logdir=./graphs/09-05-2017_11-14-20\n",
      "\n"
     ]
    }
   ],
   "source": [
    "my_config = Config()\n",
    "my_model = LinearRegression(my_config)\n",
    "l,w,b = run_training(my_model, my_config, my_data)"
   ]
  },
  {
   "cell_type": "code",
   "execution_count": 8,
   "metadata": {
    "collapsed": false
   },
   "outputs": [],
   "source": [
    "# !tensorboard  --logdir="
   ]
  },
  {
   "cell_type": "markdown",
   "metadata": {},
   "source": [
    "### After the model is constructed we can concentrate in hyperparameter optimization\n",
    "\n",
    "For example the folowing function tries to find an optimal learning rate"
   ]
  },
  {
   "cell_type": "code",
   "execution_count": 9,
   "metadata": {
    "collapsed": false
   },
   "outputs": [],
   "source": [
    "def lr_tunning(data, number_of_exp=10, clean=True, huber=False):\n",
    "    \"\"\"\n",
    "    Function that returns the best weights after training the model\n",
    "    with some random values for the learning rate. \n",
    "    \n",
    "    :type data: np array\n",
    "    :type number_of_exp: int\n",
    "    :type clean: boolean\n",
    "    :type huber: boolean\n",
    "    :rtype w: float\n",
    "    :rtype b: float\n",
    "    \"\"\"\n",
    "    if clean:\n",
    "        shutil.rmtree(\"./graphs\")\n",
    "    num_samples = data.shape[0]\n",
    "    LR = np.random.random_sample([number_of_exp])/1000\n",
    "    LR.sort()\n",
    "    best_loss = float('inf')\n",
    "    for i, lr in enumerate(LR):\n",
    "        log_path = './graphs/' + str(lr)\n",
    "        header1 = \"\\n=============== ({0} of {1}) ===============\\n\".format(i + 1, number_of_exp)\n",
    "        header2 = \"  learning rate = {}\".format(lr)\n",
    "        header3 = \"\\n=========================================\\n\"\n",
    "        print(header1 + header2 + header3)\n",
    "        my_config = Config(log_path=log_path,\n",
    "                           learning_rate=lr,\n",
    "                           show_epoch=100,\n",
    "                           huber=huber)\n",
    "        my_model = LinearRegression(my_config)\n",
    "        current_loss, current_w, current_b = run_training(my_model,\n",
    "                                                          my_config,\n",
    "                                                          data,\n",
    "                                                          verbose=False)\n",
    "        if current_loss < best_loss:\n",
    "            best_loss, best_lr = current_loss, lr\n",
    "            w, b = current_w, current_b\n",
    "    print(header3)\n",
    "    print(\"\\nbest learning rate = {0}\\nbest loss = {1}\".format(best_lr,\n",
    "                                                               best_loss/num_samples))\n",
    "    print(\"\\nFor TensorBoard visualization type\")\n",
    "    print(\"\\ntensorboard  --logdir=/graphs/\\n\")\n",
    "    return w, b"
   ]
  },
  {
   "cell_type": "code",
   "execution_count": 10,
   "metadata": {
    "collapsed": false
   },
   "outputs": [
    {
     "name": "stdout",
     "output_type": "stream",
     "text": [
      "\n",
      "=============== (1 of 10) ===============\n",
      "  learning rate = 0.00020519183859888602\n",
      "=========================================\n",
      "\n",
      "\n",
      "Epoch 0: 787.2643924394977\n",
      "\n",
      "Epoch 100: 538.749987386677\n",
      "\n",
      "=============== (2 of 10) ===============\n",
      "  learning rate = 0.00026061293958527375\n",
      "=========================================\n",
      "\n",
      "\n",
      "Epoch 0: 807.1939319031579\n",
      "\n",
      "Epoch 100: 578.9715557045171\n",
      "\n",
      "=============== (3 of 10) ===============\n",
      "  learning rate = 0.0005028314185343895\n",
      "=========================================\n",
      "\n",
      "\n",
      "Epoch 0: 1028.8862833728392\n",
      "\n",
      "Epoch 100: 780.5247445699005\n",
      "\n",
      "=============== (4 of 10) ===============\n",
      "  learning rate = 0.000512403200849591\n",
      "=========================================\n",
      "\n",
      "\n",
      "Epoch 0: 1040.7057462206908\n",
      "\n",
      "Epoch 100: 789.1210481248924\n",
      "\n",
      "=============== (5 of 10) ===============\n",
      "  learning rate = 0.0005988513043373629\n",
      "=========================================\n",
      "\n",
      "\n",
      "Epoch 0: 1158.272801714284\n",
      "\n",
      "Epoch 100: 870.6002631590125\n",
      "\n",
      "=============== (6 of 10) ===============\n",
      "  learning rate = 0.0006149154215136696\n",
      "=========================================\n",
      "\n",
      "\n",
      "Epoch 0: 1182.4667033127375\n",
      "\n",
      "Epoch 100: 886.6748305607055\n",
      "\n",
      "=============== (7 of 10) ===============\n",
      "  learning rate = 0.0007192398434870983\n",
      "=========================================\n",
      "\n",
      "\n",
      "Epoch 0: 1360.8183351698376\n",
      "\n",
      "Epoch 100: 1000.4745375450168\n",
      "\n",
      "=============== (8 of 10) ===============\n",
      "  learning rate = 0.0008781470435789087\n",
      "=========================================\n",
      "\n",
      "\n",
      "Epoch 0: 1717.2025140623252\n",
      "\n",
      "Epoch 100: 1212.698195412306\n",
      "\n",
      "=============== (9 of 10) ===============\n",
      "  learning rate = 0.0009837083918080105\n",
      "=========================================\n",
      "\n",
      "\n",
      "Epoch 0: 2018.4245709785082\n",
      "\n",
      "Epoch 100: 1383.4536906473693\n",
      "\n",
      "=============== (10 of 10) ===============\n",
      "  learning rate = 0.0009962873782274843\n",
      "=========================================\n",
      "\n",
      "\n",
      "Epoch 0: 2057.851690745868\n",
      "\n",
      "Epoch 100: 1405.4563780331187\n",
      "\n",
      "=========================================\n",
      "\n",
      "\n",
      "best learning rate = 0.00020519183859888602\n",
      "best loss = 538.749987386677\n",
      "\n",
      "For TensorBoard visualization type\n",
      "\n",
      "tensorboard  --logdir=/graphs/\n",
      "\n"
     ]
    }
   ],
   "source": [
    "w,b = lr_tunning(my_data)"
   ]
  },
  {
   "cell_type": "markdown",
   "metadata": {
    "collapsed": true,
    "deletable": true,
    "editable": true
   },
   "source": [
    "### Now we can use tensorboad to see which one is the best hyperparameter. To do so, we need to set logdir to the parent folder"
   ]
  },
  {
   "cell_type": "code",
   "execution_count": 11,
   "metadata": {
    "collapsed": false
   },
   "outputs": [],
   "source": [
    "# !tensorboard --logdir=./graphs"
   ]
  },
  {
   "cell_type": "markdown",
   "metadata": {},
   "source": [
    "### Calculating the [R squared](https://en.wikipedia.org/wiki/Coefficient_of_determination) and creating a plot function\n",
    "\n",
    "\n"
   ]
  },
  {
   "cell_type": "code",
   "execution_count": 12,
   "metadata": {
    "collapsed": false
   },
   "outputs": [],
   "source": [
    "def r_squared(data, w, b):\n",
    "    \"\"\"\n",
    "    Calculate the R^2 value\n",
    "    \n",
    "    :type data: np array\n",
    "    :type w: float\n",
    "    :type b: float\n",
    "    :rtype: float\n",
    "    \"\"\"\n",
    "    X, Y = data.T[0], data.T[1]\n",
    "    Y_hat = X * w + b\n",
    "    Y_mean = np.mean(Y) \n",
    "    sstot = np.sum(np.square(Y - Y_mean))\n",
    "    ssreg = np.sum(np.square(Y_hat - Y_mean))\n",
    "    return 1 - (ssreg/sstot)\n",
    "\n",
    "def plot_line(data, w, b, title, r_squared):\n",
    "    \"\"\"\n",
    "    Plot the regression line\n",
    "    \n",
    "    :type data: np array\n",
    "    :type w: float\n",
    "    :type b: float\n",
    "    :type title: str\n",
    "    :type r_squared: float\n",
    "    \"\"\"\n",
    "    X, Y = data.T[0], data.T[1]\n",
    "    fig = plt.figure()\n",
    "    ax = fig.add_subplot(111)\n",
    "    plt.plot(X, Y, 'bo', label='Real data')\n",
    "    plt.plot(X, X * w + b, 'r', label='Predicted data')\n",
    "    plt.title(title)\n",
    "    bbox_props = dict(boxstyle=\"square,pad=0.3\", fc=\"white\", ec=\"black\", lw=0.2)\n",
    "    t = ax.text(20, 135, \"$R^2 ={:.4f}$\".format(r_squared), size=15, bbox=bbox_props)\n",
    "    plt.legend()\n",
    "    plt.show()"
   ]
  },
  {
   "cell_type": "markdown",
   "metadata": {},
   "source": [
    "### Ploting the results"
   ]
  },
  {
   "cell_type": "code",
   "execution_count": 13,
   "metadata": {
    "collapsed": false
   },
   "outputs": [
    {
     "data": {
      "image/png": "[encoded data removed]",
      "text/plain": [
       "<matplotlib.figure.Figure at 0x7fb0b7cc4080>"
      ]
     },
     "metadata": {},
     "output_type": "display_data"
    }
   ],
   "source": [
    "r2 = r_squared(my_data,w,b)\n",
    "plot_line(my_data, w, b, \"Linear Regression with MSE\", r2)"
   ]
  },
  {
   "cell_type": "markdown",
   "metadata": {},
   "source": [
    "### We can repeat the model training using the Huber loss function"
   ]
  },
  {
   "cell_type": "code",
   "execution_count": 14,
   "metadata": {
    "collapsed": false
   },
   "outputs": [
    {
     "name": "stdout",
     "output_type": "stream",
     "text": [
      "\n",
      "=============== (1 of 10) ===============\n",
      "  learning rate = 0.0001242034740070661\n",
      "=========================================\n",
      "\n",
      "\n",
      "Epoch 0: 32.75957624117533\n",
      "\n",
      "Epoch 100: 16.430598981678486\n",
      "\n",
      "=============== (2 of 10) ===============\n",
      "  learning rate = 0.000232958103633783\n",
      "=========================================\n",
      "\n",
      "\n",
      "Epoch 0: 32.403121533847994\n",
      "\n",
      "Epoch 100: 16.36202895867505\n",
      "\n",
      "=============== (3 of 10) ===============\n",
      "  learning rate = 0.00028314806034707287\n",
      "=========================================\n",
      "\n",
      "\n",
      "Epoch 0: 32.23861847037361\n",
      "\n",
      "Epoch 100: 16.33081937173293\n",
      "\n",
      "=============== (4 of 10) ===============\n",
      "  learning rate = 0.0003952782567665969\n",
      "=========================================\n",
      "\n",
      "\n",
      "Epoch 0: 31.87549910446008\n",
      "\n",
      "Epoch 100: 16.26236041952368\n",
      "\n",
      "=============== (5 of 10) ===============\n",
      "  learning rate = 0.00040657754053142526\n",
      "=========================================\n",
      "\n",
      "\n",
      "Epoch 0: 31.84179367337908\n",
      "\n",
      "Epoch 100: 16.25555894622535\n",
      "\n",
      "=============== (6 of 10) ===============\n",
      "  learning rate = 0.00041696180134552177\n",
      "=========================================\n",
      "\n",
      "\n",
      "Epoch 0: 31.811125344463758\n",
      "\n",
      "Epoch 100: 16.249319214462524\n",
      "\n",
      "=============== (7 of 10) ===============\n",
      "  learning rate = 0.0007363287680516651\n",
      "=========================================\n",
      "\n",
      "\n",
      "Epoch 0: 30.955058608736312\n",
      "\n",
      "Epoch 100: 16.058627739344264\n",
      "\n",
      "=============== (8 of 10) ===============\n",
      "  learning rate = 0.0007967719144166718\n",
      "=========================================\n",
      "\n",
      "\n",
      "Epoch 0: 30.789149431955245\n",
      "\n",
      "Epoch 100: 16.023095905259694\n",
      "\n",
      "=============== (9 of 10) ===============\n",
      "  learning rate = 0.0008694845078286116\n",
      "=========================================\n",
      "\n",
      "\n",
      "Epoch 0: 30.58956243878319\n",
      "\n",
      "Epoch 100: 15.981015510712972\n",
      "\n",
      "=============== (10 of 10) ===============\n",
      "  learning rate = 0.0009489372809314112\n",
      "=========================================\n",
      "\n",
      "\n",
      "Epoch 0: 30.371474583943684\n",
      "\n",
      "Epoch 100: 15.934308345873086\n",
      "\n",
      "=========================================\n",
      "\n",
      "\n",
      "best learning rate = 0.0009489372809314112\n",
      "best loss = 15.934308345873086\n",
      "\n",
      "For TensorBoard visualization type\n",
      "\n",
      "tensorboard  --logdir=/graphs/\n",
      "\n"
     ]
    }
   ],
   "source": [
    "w,b = lr_tunning(my_data,huber=True)"
   ]
  },
  {
   "cell_type": "markdown",
   "metadata": {},
   "source": [
    "### Ploting again the results"
   ]
  },
  {
   "cell_type": "code",
   "execution_count": 15,
   "metadata": {
    "collapsed": false
   },
   "outputs": [
    {
     "data": {
      "image/png": "[encoded data removed]",
      "text/plain": [
       "<matplotlib.figure.Figure at 0x7fb0b7d6d278>"
      ]
     },
     "metadata": {},
     "output_type": "display_data"
    }
   ],
   "source": [
    "r2 = r_squared(my_data,w,b)\n",
    "plot_line(my_data, w, b, \"Linear Regression with Huber loss\", r2)"
   ]
  },
  {
   "cell_type": "code",
   "execution_count": null,
   "metadata": {
    "collapsed": true
   },
   "outputs": [],
   "source": []
  }
 ],
 "metadata": {
  "kernelspec": {
   "display_name": "Python 3",
   "language": "python",
   "name": "python3"
  },
  "language_info": {
   "codemirror_mode": {
    "name": "ipython",
    "version": 3
   },
   "file_extension": ".py",
   "mimetype": "text/x-python",
   "name": "python",
   "nbconvert_exporter": "python",
   "pygments_lexer": "ipython3",
   "version": "3.5.2"
  }
 },
 "nbformat": 4,
 "nbformat_minor": 2
}
