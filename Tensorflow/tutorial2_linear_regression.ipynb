{
 "cells": [
  {
   "cell_type": "markdown",
   "metadata": {
    "deletable": true,
    "editable": true
   },
   "source": [
    "# Tutorial2: Linear Regression\n",
    "\n",
    "Simple linear regression example in TensorFlow. \n",
    "Reference [cs20si](http://web.stanford.edu/class/cs20si/lectures/slides_03.pdf)"
   ]
  },
  {
   "cell_type": "code",
   "execution_count": 1,
   "metadata": {
    "collapsed": false
   },
   "outputs": [],
   "source": [
    "# All imports\n",
    "import numpy as np\n",
    "import matplotlib.pyplot as plt\n",
    "import tensorflow as tf\n",
    "from util import get_log_path\n",
    "import pandas as pd\n",
    "import shutil\n",
    "from IPython.display import Image\n",
    "\n",
    "\n",
    "%matplotlib inline\n"
   ]
  },
  {
   "cell_type": "markdown",
   "metadata": {},
   "source": [
    "# Linear Regression\n",
    "\n",
    "Toy dataset  [Fire and Theft in Chicago](http://college.cengage.com/mathematics/brase/understandable_statistics/7e/students/datasets/slr/frames/frame.html)\n",
    "\n",
    "The dataset consist of pairs (X,Y) where\n",
    "\n",
    "- X = fires per 1000 housing units\n",
    "- Y = thefts per 1000 population\n",
    "\n",
    "\n",
    "within the same Zip code in the Chicago metro area.\n",
    "\n",
    "Reference: U.S. Commission on Civil Rights"
   ]
  },
  {
   "cell_type": "markdown",
   "metadata": {},
   "source": [
    "**Let us take a look in the dataset**"
   ]
  },
  {
   "cell_type": "code",
   "execution_count": 2,
   "metadata": {
    "collapsed": false,
    "deletable": true,
    "editable": true
   },
   "outputs": [
    {
     "data": {
      "text/html": [
       "<div>\n",
       "<table border=\"1\" class=\"dataframe\">\n",
       "  <thead>\n",
       "    <tr style=\"text-align: right;\">\n",
       "      <th></th>\n",
       "      <th>X</th>\n",
       "      <th>Y</th>\n",
       "    </tr>\n",
       "  </thead>\n",
       "  <tbody>\n",
       "    <tr>\n",
       "      <th>0</th>\n",
       "      <td>6.2</td>\n",
       "      <td>29</td>\n",
       "    </tr>\n",
       "    <tr>\n",
       "      <th>1</th>\n",
       "      <td>9.5</td>\n",
       "      <td>44</td>\n",
       "    </tr>\n",
       "    <tr>\n",
       "      <th>2</th>\n",
       "      <td>10.5</td>\n",
       "      <td>36</td>\n",
       "    </tr>\n",
       "    <tr>\n",
       "      <th>3</th>\n",
       "      <td>7.7</td>\n",
       "      <td>37</td>\n",
       "    </tr>\n",
       "    <tr>\n",
       "      <th>4</th>\n",
       "      <td>8.6</td>\n",
       "      <td>53</td>\n",
       "    </tr>\n",
       "  </tbody>\n",
       "</table>\n",
       "</div>"
      ],
      "text/plain": [
       "      X   Y\n",
       "0   6.2  29\n",
       "1   9.5  44\n",
       "2  10.5  36\n",
       "3   7.7  37\n",
       "4   8.6  53"
      ]
     },
     "execution_count": 2,
     "metadata": {},
     "output_type": "execute_result"
    }
   ],
   "source": [
    "df = pd.read_excel('data/fire_theft.xls')\n",
    "my_data = df.as_matrix()\n",
    "df.head()"
   ]
  },
  {
   "cell_type": "code",
   "execution_count": 3,
   "metadata": {
    "collapsed": false
   },
   "outputs": [
    {
     "data": {
      "text/html": [
       "<div>\n",
       "<table border=\"1\" class=\"dataframe\">\n",
       "  <thead>\n",
       "    <tr style=\"text-align: right;\">\n",
       "      <th></th>\n",
       "      <th>X</th>\n",
       "      <th>Y</th>\n",
       "    </tr>\n",
       "  </thead>\n",
       "  <tbody>\n",
       "    <tr>\n",
       "      <th>count</th>\n",
       "      <td>42.000000</td>\n",
       "      <td>42.000000</td>\n",
       "    </tr>\n",
       "    <tr>\n",
       "      <th>mean</th>\n",
       "      <td>12.692857</td>\n",
       "      <td>33.666667</td>\n",
       "    </tr>\n",
       "    <tr>\n",
       "      <th>std</th>\n",
       "      <td>9.667683</td>\n",
       "      <td>23.040438</td>\n",
       "    </tr>\n",
       "    <tr>\n",
       "      <th>min</th>\n",
       "      <td>2.000000</td>\n",
       "      <td>4.000000</td>\n",
       "    </tr>\n",
       "    <tr>\n",
       "      <th>25%</th>\n",
       "      <td>5.625000</td>\n",
       "      <td>22.000000</td>\n",
       "    </tr>\n",
       "    <tr>\n",
       "      <th>50%</th>\n",
       "      <td>10.500000</td>\n",
       "      <td>31.000000</td>\n",
       "    </tr>\n",
       "    <tr>\n",
       "      <th>75%</th>\n",
       "      <td>17.175000</td>\n",
       "      <td>39.750000</td>\n",
       "    </tr>\n",
       "    <tr>\n",
       "      <th>max</th>\n",
       "      <td>39.700000</td>\n",
       "      <td>147.000000</td>\n",
       "    </tr>\n",
       "  </tbody>\n",
       "</table>\n",
       "</div>"
      ],
      "text/plain": [
       "               X           Y\n",
       "count  42.000000   42.000000\n",
       "mean   12.692857   33.666667\n",
       "std     9.667683   23.040438\n",
       "min     2.000000    4.000000\n",
       "25%     5.625000   22.000000\n",
       "50%    10.500000   31.000000\n",
       "75%    17.175000   39.750000\n",
       "max    39.700000  147.000000"
      ]
     },
     "execution_count": 3,
     "metadata": {},
     "output_type": "execute_result"
    }
   ],
   "source": [
    "df.describe()"
   ]
  },
  {
   "cell_type": "markdown",
   "metadata": {},
   "source": [
    "### We use the class Config to store all the hyperparameters"
   ]
  },
  {
   "cell_type": "code",
   "execution_count": 4,
   "metadata": {
    "collapsed": true
   },
   "outputs": [],
   "source": [
    "class Config():\n",
    "    \"\"\"\n",
    "    Class to hold all model hyperparams.\n",
    "    \"\"\"\n",
    "    def __init__(self,\n",
    "                 learning_rate=0.001,\n",
    "                 delta=1.0,\n",
    "                 huber=False,\n",
    "                 num_epochs=101,\n",
    "                 show_epoch=10,\n",
    "                 log_path=None):\n",
    "        \"\"\"\n",
    "        :type learning_rate: float\n",
    "        :type delta: float\n",
    "        :type huber: boolean\n",
    "        :type num_epochs: int\n",
    "        :type show_epoch: int\n",
    "        :type log_path: None or str\n",
    "        \"\"\"\n",
    "        self.learning_rate = learning_rate\n",
    "        self.delta = delta\n",
    "        self.huber = huber\n",
    "        self.num_epochs = num_epochs\n",
    "        self.show_epoch = show_epoch\n",
    "        if log_path is None:\n",
    "            self.log_path = get_log_path()\n",
    "        else:\n",
    "            self.log_path = log_path"
   ]
  },
  {
   "cell_type": "markdown",
   "metadata": {},
   "source": [
    "### Defining the linear regression model as a tf graph"
   ]
  },
  {
   "cell_type": "code",
   "execution_count": 5,
   "metadata": {
    "collapsed": false
   },
   "outputs": [],
   "source": [
    "class LinearRegression:\n",
    "    \"\"\"\n",
    "    Class for the linear regression model\n",
    "    \"\"\"\n",
    "    def __init__(self, config):\n",
    "        \"\"\"\n",
    "        :type config: Config\n",
    "        \"\"\"\n",
    "        self.learning_rate = config.learning_rate\n",
    "        self.delta = config.delta\n",
    "        self.huber = config.huber\n",
    "        self.log_path = config.log_path\n",
    "        self.build_graph()\n",
    "\n",
    "    def create_placeholders(self):\n",
    "        \"\"\"\n",
    "        Method for creating placeholders for input X (number of fire)\n",
    "        and label Y (number of theft).\n",
    "        \"\"\"\n",
    "        self.number_fire = tf.placeholder(tf.float32, shape=[], name=\"X\")\n",
    "        self.number_theft = tf.placeholder(tf.float32, shape=[], name=\"Y\")\n",
    "\n",
    "    def create_variables(self):\n",
    "        \"\"\"\n",
    "        Method for creating weight and bias variables.\n",
    "        \"\"\"\n",
    "        with tf.name_scope(\"Weights\"):\n",
    "            self.weight = tf.get_variable(\"w\", dtype=tf.float32, initializer=0.)\n",
    "            self.bias = tf.get_variable(\"b\", dtype=tf.float32, initializer=0.)\n",
    "\n",
    "    def create_summaries(self):\n",
    "        \"\"\"\n",
    "        Method to create the histogram summaries for all variables\n",
    "        \"\"\"\n",
    "        tf.summary.histogram('weights_summ', self.weight)\n",
    "        tf.summary.histogram('bias_summ', self.bias)\n",
    "\n",
    "    def create_prediction(self):\n",
    "        \"\"\"\n",
    "        Method for creating the linear regression prediction.\n",
    "        \"\"\"\n",
    "        with tf.name_scope(\"linear-model\"):\n",
    "            self.prediction = (self.number_fire * self.weight) + self.bias\n",
    "\n",
    "    def create_MSE_loss(self):\n",
    "        \"\"\"\n",
    "        Method for creating the mean square error loss function.\n",
    "        \"\"\"\n",
    "        with tf.name_scope(\"loss\"):\n",
    "            self.loss = tf.square(self.prediction - self.number_theft)\n",
    "            tf.summary.scalar(\"loss\", self.loss)\n",
    "\n",
    "    def create_Huber_loss(self):\n",
    "        \"\"\"\n",
    "        Method for creating the Huber loss function.\n",
    "        \"\"\"\n",
    "        with tf.name_scope(\"loss\"):\n",
    "            residual = tf.abs(self.prediction - self.number_theft)\n",
    "            condition = tf.less(residual, self.delta)\n",
    "            small_residual = 0.5 * tf.square(residual)\n",
    "            large_residual = self.delta * residual - 0.5 * tf.square(self.delta)\n",
    "            self.loss = tf.where(condition, small_residual, large_residual)\n",
    "            tf.summary.scalar(\"loss\", self.loss)\n",
    "\n",
    "    def create_optimizer(self):\n",
    "        \"\"\"\n",
    "        Method to create the optimizer of the graph\n",
    "        \"\"\"\n",
    "        with tf.name_scope(\"optimizer\"):\n",
    "            opt = tf.train.GradientDescentOptimizer(self.learning_rate)\n",
    "            self.optimizer = opt.minimize(self.loss)\n",
    "\n",
    "    def build_graph(self):\n",
    "        \"\"\"\n",
    "        Method to build the computation graph in tensorflow\n",
    "        \"\"\"\n",
    "        self.graph = tf.Graph()\n",
    "        with self.graph.as_default():\n",
    "            self.create_placeholders()\n",
    "            self.create_variables()\n",
    "            self.create_summaries()\n",
    "            self.create_prediction()\n",
    "            if self.huber:\n",
    "                self.create_Huber_loss()\n",
    "            else:\n",
    "                self.create_MSE_loss()\n",
    "            self.create_optimizer()\n"
   ]
  },
  {
   "cell_type": "markdown",
   "metadata": {},
   "source": [
    "In the graph above we defined two kinds of loss function. One of them is called [Huber loss](https://en.wikipedia.org/wiki/Huber_loss).\n",
    "\n",
    "A quick review:\n",
    "\n",
    "   \n",
    "- $L_{\\delta}(y,f(x)) =  \\frac{1}{2}(y-f(x))^{2}$ if $|y-f(x)|\\leq \\delta$\n",
    "\n",
    "- $L_{\\delta}(y,f(x)) =  \\delta|y-f(x)| -\\frac{1}{2}\\delta^{2}$ otherwise \n"
   ]
  },
  {
   "cell_type": "markdown",
   "metadata": {},
   "source": [
    "When we visualize the graph in tensorboard we find the following image"
   ]
  },
  {
   "cell_type": "code",
   "execution_count": 6,
   "metadata": {
    "collapsed": false
   },
   "outputs": [
    {
     "data": {
      "image/png": "[encoded data removed]",
      "text/plain": [
       "<IPython.core.display.Image object>"
      ]
     },
     "execution_count": 6,
     "metadata": {},
     "output_type": "execute_result"
    }
   ],
   "source": [
    "Image(filename=\"./images/graph_linear_regression.png\") "
   ]
  },
  {
   "cell_type": "markdown",
   "metadata": {},
   "source": [
    "### Now we are going to define a function to train our model"
   ]
  },
  {
   "cell_type": "code",
   "execution_count": 7,
   "metadata": {
    "collapsed": true
   },
   "outputs": [],
   "source": [
    "def run_model(model, config, data, verbose=True):\n",
    "    \"\"\"\n",
    "    Function to train the linear regression model\n",
    "\n",
    "    :type model: LinearRegression\n",
    "    :type config: Config\n",
    "    :type data: np array\n",
    "    :type verbose: boolean\n",
    "    :rtype total_loss: float\n",
    "    :rtype w: float\n",
    "    :rtype b: float\n",
    "    \"\"\"\n",
    "    n_samples = data.shape[0]\n",
    "    num_epochs = config.num_epochs\n",
    "    show_epoch = config.show_epoch\n",
    "    log_path = model.log_path\n",
    "    with tf.Session(graph=model.graph) as sess:\n",
    "        if verbose:\n",
    "            print('Start training\\n')\n",
    "        # functions to write the tensorboard logs\n",
    "        summary_writer = tf.summary.FileWriter(log_path,sess.graph)\n",
    "        all_summaries = tf.summary.merge_all()\n",
    "        # initializing variables\n",
    "        tf.global_variables_initializer().run()\n",
    "        step = 0\n",
    "        for i in range(num_epochs): # run num_epochs epochs\n",
    "            total_loss = 0\n",
    "            for x, y in data:\n",
    "                step += 1\n",
    "                \n",
    "                feed_dict = {model.number_fire: x,\n",
    "                             model.number_theft: y}\n",
    "                \n",
    "                _,loss,summary,w,b = sess.run([model.optimizer, # run optimizer to perform minimization\n",
    "                                               model.loss,\n",
    "                                               all_summaries,\n",
    "                                               model.weight,\n",
    "                                               model.bias], feed_dict=feed_dict)\n",
    "\n",
    "                #writing the log\n",
    "                summary_writer.add_summary(summary,step)\n",
    "                summary_writer.flush()\n",
    "                \n",
    "                total_loss += loss\n",
    "            if i % show_epoch == 0:\n",
    "                print(\"\\nEpoch {0}: {1}\".format(i, total_loss/n_samples))\n",
    "    if verbose:\n",
    "        print(\"\\n========= For TensorBoard visualization type ===========\")\n",
    "        print(\"\\ntensorboard  --logdir={}\\n\".format(log_path))\n",
    "    return total_loss,w,b \n"
   ]
  },
  {
   "cell_type": "markdown",
   "metadata": {},
   "source": [
    "**Training the model**"
   ]
  },
  {
   "cell_type": "code",
   "execution_count": 8,
   "metadata": {
    "collapsed": false
   },
   "outputs": [
    {
     "name": "stdout",
     "output_type": "stream",
     "text": [
      "Start training\n",
      "\n",
      "\n",
      "Epoch 0: 2069.6319333978354\n",
      "\n",
      "Epoch 10: 1924.5930823644712\n",
      "\n",
      "Epoch 20: 1773.1024853109072\n",
      "\n",
      "Epoch 30: 1666.1935385839038\n",
      "\n",
      "Epoch 40: 1589.668056331575\n",
      "\n",
      "Epoch 50: 1534.211797797609\n",
      "\n",
      "Epoch 60: 1493.600210891061\n",
      "\n",
      "Epoch 70: 1463.5996563179153\n",
      "\n",
      "Epoch 80: 1441.2782130186733\n",
      "\n",
      "Epoch 90: 1424.5748210840281\n",
      "\n",
      "Epoch 100: 1412.0180716720365\n",
      "\n",
      "========= For TensorBoard visualization type ===========\n",
      "\n",
      "tensorboard  --logdir=./graphs/08-05-2017_16-16-43\n",
      "\n"
     ]
    }
   ],
   "source": [
    "my_config = Config()\n",
    "my_model = LinearRegression(my_config)\n",
    "l,w,b = run_model(my_model, my_config, my_data)"
   ]
  },
  {
   "cell_type": "code",
   "execution_count": 9,
   "metadata": {
    "collapsed": false
   },
   "outputs": [],
   "source": [
    "# ! tensorboard  --logdir="
   ]
  },
  {
   "cell_type": "markdown",
   "metadata": {},
   "source": [
    "### After the model is constructed we can concentrate in hyperparameter optimization\n",
    "\n",
    "For example the folowing function tries to find an optimal learning rate"
   ]
  },
  {
   "cell_type": "code",
   "execution_count": 10,
   "metadata": {
    "collapsed": false
   },
   "outputs": [],
   "source": [
    "def lr_tunning(data, number_of_exp=10, clean=True, huber=False):\n",
    "    \"\"\"\n",
    "    Function that returns the best weights after training the model\n",
    "    with some random values for the learning rate. \n",
    "    \n",
    "    :type data: np array\n",
    "    :type number_of_exp: int\n",
    "    :type clean: boolean\n",
    "    :type huber: boolean\n",
    "    :rtype w: float\n",
    "    :rtype b: float\n",
    "    \"\"\"\n",
    "    if clean:\n",
    "        shutil.rmtree(\"./graphs\")\n",
    "    n_samples = data.shape[0]\n",
    "    LR = np.random.random_sample([number_of_exp])/1000\n",
    "    LR.sort()\n",
    "    best_loss = float('inf')\n",
    "    for i, lr in enumerate(LR):\n",
    "        log_path = './graphs/' + str(lr)\n",
    "        header1 = \"\\n=============== ({0} of {1}) ===============\\n\".format(i + 1, number_of_exp)\n",
    "        header2 = \"  learning rate = {}\".format(lr)\n",
    "        header3 = \"\\n=========================================\\n\"\n",
    "        print(header1 + header2 + header3)\n",
    "        my_config = Config(log_path=log_path,\n",
    "                           learning_rate=lr,\n",
    "                           show_epoch=100,\n",
    "                           huber=huber)\n",
    "        my_model = LinearRegression(my_config)\n",
    "        current_loss, current_w, current_b = run_model(my_model,\n",
    "                                                       my_config,\n",
    "                                                       data,\n",
    "                                                       verbose=False)\n",
    "        if current_loss < best_loss:\n",
    "            best_loss, best_lr = current_loss, lr\n",
    "            w, b = current_w, current_b\n",
    "    print(header3)\n",
    "    print(\"\\nbest learning rate = {0}\\nbest loss = {1}\".format(best_lr,\n",
    "                                                               best_loss/n_samples))\n",
    "    print(\"\\nFor TensorBoard visualization type\")\n",
    "    print(\"\\ntensorboard  --logdir=/graphs/\\n\")\n",
    "    return w, b"
   ]
  },
  {
   "cell_type": "code",
   "execution_count": 11,
   "metadata": {
    "collapsed": false
   },
   "outputs": [
    {
     "name": "stdout",
     "output_type": "stream",
     "text": [
      "\n",
      "=============== (1 of 10) ===============\n",
      "  learning rate = 0.0001500637623315817\n",
      "=========================================\n",
      "\n",
      "\n",
      "Epoch 0: 793.2354119051071\n",
      "\n",
      "Epoch 100: 504.38215058048564\n",
      "\n",
      "=============== (2 of 10) ===============\n",
      "  learning rate = 0.00019420282593258852\n",
      "=========================================\n",
      "\n",
      "\n",
      "Epoch 0: 785.8810728589693\n",
      "\n",
      "Epoch 100: 531.3583995737135\n",
      "\n",
      "=============== (3 of 10) ===============\n",
      "  learning rate = 0.00038042506531781793\n",
      "=========================================\n",
      "\n",
      "\n",
      "Epoch 0: 896.7992439553851\n",
      "\n",
      "Epoch 100: 675.2510775164479\n",
      "\n",
      "=============== (4 of 10) ===============\n",
      "  learning rate = 0.0005875298668462664\n",
      "=========================================\n",
      "\n",
      "\n",
      "Epoch 0: 1141.6915899259704\n",
      "\n",
      "Epoch 100: 859.4691136717087\n",
      "\n",
      "=============== (5 of 10) ===============\n",
      "  learning rate = 0.000738911106702933\n",
      "=========================================\n",
      "\n",
      "\n",
      "Epoch 0: 1399.0185223704293\n",
      "\n",
      "Epoch 100: 1024.0167353394486\n",
      "\n",
      "=============== (6 of 10) ===============\n",
      "  learning rate = 0.0007422949177233353\n",
      "=========================================\n",
      "\n",
      "\n",
      "Epoch 0: 1405.7480145125162\n",
      "\n",
      "Epoch 100: 1028.1393724293225\n",
      "\n",
      "=============== (7 of 10) ===============\n",
      "  learning rate = 0.0007848945585014333\n",
      "=========================================\n",
      "\n",
      "\n",
      "Epoch 0: 1494.5839507806868\n",
      "\n",
      "Epoch 100: 1081.942208233234\n",
      "\n",
      "=============== (8 of 10) ===============\n",
      "  learning rate = 0.0008698436237558727\n",
      "=========================================\n",
      "\n",
      "\n",
      "Epoch 0: 1695.752159636645\n",
      "\n",
      "Epoch 100: 1200.3056963251327\n",
      "\n",
      "=============== (9 of 10) ===============\n",
      "  learning rate = 0.0009739722867159691\n",
      "=========================================\n",
      "\n",
      "\n",
      "Epoch 0: 1988.422390943876\n",
      "\n",
      "Epoch 100: 1366.6676738464407\n",
      "\n",
      "=============== (10 of 10) ===============\n",
      "  learning rate = 0.000977265449721065\n",
      "=========================================\n",
      "\n",
      "\n",
      "Epoch 0: 1998.5202134865892\n",
      "\n",
      "Epoch 100: 1372.321068984412\n",
      "\n",
      "=========================================\n",
      "\n",
      "\n",
      "best learning rate = 0.0001500637623315817\n",
      "best loss = 504.38215058048564\n",
      "\n",
      "For TensorBoard visualization type\n",
      "\n",
      "tensorboard  --logdir=/graphs/\n",
      "\n"
     ]
    }
   ],
   "source": [
    "w,b = lr_tunning(my_data)"
   ]
  },
  {
   "cell_type": "markdown",
   "metadata": {
    "collapsed": true,
    "deletable": true,
    "editable": true
   },
   "source": [
    "### Now we can use tensorboad to see which one is the best hyperparameter. To do so, we need to set logdir to the parent folder"
   ]
  },
  {
   "cell_type": "code",
   "execution_count": 12,
   "metadata": {
    "collapsed": false
   },
   "outputs": [],
   "source": [
    "#!tensorboard --logdir=./graphs"
   ]
  },
  {
   "cell_type": "markdown",
   "metadata": {},
   "source": [
    "### Ploting the results"
   ]
  },
  {
   "cell_type": "code",
   "execution_count": 13,
   "metadata": {
    "collapsed": false
   },
   "outputs": [
    {
     "data": {
      "image/png": "[encoded data removed]",
      "text/plain": [
       "<matplotlib.figure.Figure at 0x7fd688044588>"
      ]
     },
     "metadata": {},
     "output_type": "display_data"
    }
   ],
   "source": [
    "X, Y = my_data.T[0], my_data.T[1]\n",
    "plt.plot(X, Y, 'bo', label='Real data')\n",
    "plt.plot(X, X * w + b, 'r', label='Predicted data')\n",
    "plt.legend()\n",
    "plt.show()"
   ]
  },
  {
   "cell_type": "markdown",
   "metadata": {},
   "source": [
    "### We can repeat the model training using the Huber loss function"
   ]
  },
  {
   "cell_type": "code",
   "execution_count": 14,
   "metadata": {
    "collapsed": false
   },
   "outputs": [
    {
     "name": "stdout",
     "output_type": "stream",
     "text": [
      "\n",
      "=============== (1 of 10) ===============\n",
      "  learning rate = 8.02995316503492e-05\n",
      "=========================================\n",
      "\n",
      "\n",
      "Epoch 0: 32.90347622689747\n",
      "\n",
      "Epoch 100: 16.49965476102772\n",
      "\n",
      "=============== (2 of 10) ===============\n",
      "  learning rate = 9.476519292177632e-05\n",
      "=========================================\n",
      "\n",
      "\n",
      "Epoch 0: 32.85606370085762\n",
      "\n",
      "Epoch 100: 16.450529192707368\n",
      "\n",
      "=============== (3 of 10) ===============\n",
      "  learning rate = 0.00034662227417862136\n",
      "=========================================\n",
      "\n",
      "\n",
      "Epoch 0: 32.0305749915895\n",
      "\n",
      "Epoch 100: 16.291906497352535\n",
      "\n",
      "=============== (4 of 10) ===============\n",
      "  learning rate = 0.0004063654664856775\n",
      "=========================================\n",
      "\n",
      "\n",
      "Epoch 0: 31.84242305727232\n",
      "\n",
      "Epoch 100: 16.255674382472144\n",
      "\n",
      "=============== (5 of 10) ===============\n",
      "  learning rate = 0.00041906082955413693\n",
      "=========================================\n",
      "\n",
      "\n",
      "Epoch 0: 31.804961682785127\n",
      "\n",
      "Epoch 100: 16.24802446579339\n",
      "\n",
      "=============== (6 of 10) ===============\n",
      "  learning rate = 0.0005565337071860053\n",
      "=========================================\n",
      "\n",
      "\n",
      "Epoch 0: 31.427465448244696\n",
      "\n",
      "Epoch 100: 16.16533487095564\n",
      "\n",
      "=============== (7 of 10) ===============\n",
      "  learning rate = 0.0005611795175024004\n",
      "=========================================\n",
      "\n",
      "\n",
      "Epoch 0: 31.415608661692765\n",
      "\n",
      "Epoch 100: 16.16255473075268\n",
      "\n",
      "=============== (8 of 10) ===============\n",
      "  learning rate = 0.0006585204967821428\n",
      "=========================================\n",
      "\n",
      "\n",
      "Epoch 0: 31.16863287062872\n",
      "\n",
      "Epoch 100: 16.104807599337487\n",
      "\n",
      "=============== (9 of 10) ===============\n",
      "  learning rate = 0.0006816563251440942\n",
      "=========================================\n",
      "\n",
      "\n",
      "Epoch 0: 31.105127777372086\n",
      "\n",
      "Epoch 100: 16.090893375427445\n",
      "\n",
      "=============== (10 of 10) ===============\n",
      "  learning rate = 0.0007182027773930913\n",
      "=========================================\n",
      "\n",
      "\n",
      "Epoch 0: 31.00481228601365\n",
      "\n",
      "Epoch 100: 16.069219854583416\n",
      "\n",
      "=========================================\n",
      "\n",
      "\n",
      "best learning rate = 0.0007182027773930913\n",
      "best loss = 16.069219854583416\n",
      "\n",
      "For TensorBoard visualization type\n",
      "\n",
      "tensorboard  --logdir=/graphs/\n",
      "\n"
     ]
    }
   ],
   "source": [
    "w,b = lr_tunning(my_data,huber=True)"
   ]
  },
  {
   "cell_type": "markdown",
   "metadata": {},
   "source": [
    "### Ploting again the results"
   ]
  },
  {
   "cell_type": "code",
   "execution_count": 15,
   "metadata": {
    "collapsed": false
   },
   "outputs": [
    {
     "data": {
      "image/png": "[encoded data removed]",
      "text/plain": [
       "<matplotlib.figure.Figure at 0x7fd64034f470>"
      ]
     },
     "metadata": {},
     "output_type": "display_data"
    }
   ],
   "source": [
    "X, Y = my_data.T[0], my_data.T[1]\n",
    "plt.plot(X, Y, 'bo', label='Real data')\n",
    "plt.plot(X, X * w + b, 'r', label='Predicted data')\n",
    "plt.legend()\n",
    "plt.show()"
   ]
  }
 ],
 "metadata": {
  "kernelspec": {
   "display_name": "Python 3",
   "language": "python",
   "name": "python3"
  },
  "language_info": {
   "codemirror_mode": {
    "name": "ipython",
    "version": 3
   },
   "file_extension": ".py",
   "mimetype": "text/x-python",
   "name": "python",
   "nbconvert_exporter": "python",
   "pygments_lexer": "ipython3",
   "version": "3.5.2"
  }
 },
 "nbformat": 4,
 "nbformat_minor": 2
}
