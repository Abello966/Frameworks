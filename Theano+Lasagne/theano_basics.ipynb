{
 "cells": [
  {
   "cell_type": "markdown",
   "metadata": {},
   "source": [
    "## Tutorial de Theano: Básicos\n",
    "\n",
    "Theano é uma biblioteca que adiciona um background matemático à Python, permitindo principalmente o cálculo de expressões matemáticas envolvendo matrizes e tensores. É um dos \"concorrentes\" ao Tensorflow\n",
    "\n",
    "\n",
    "Prós:\n",
    "* Mais simples \n",
    "* Mais aberto a hardware (libgpuarray como padrão)\n",
    "* Integrado ao numpy\n",
    "* Compilado (?)\n",
    "\n",
    "Contras:\n",
    "* Comunidade menor\n",
    "* Não tem Sessions\n",
    "* TensorBoard\n",
    "* Compilado (?)"
   ]
  },
  {
   "cell_type": "code",
   "execution_count": 1,
   "metadata": {},
   "outputs": [
    {
     "name": "stderr",
     "output_type": "stream",
     "text": [
      "Using gpu device 0: GeForce GT 630M (CNMeM is disabled)\n"
     ]
    }
   ],
   "source": [
    "from theano import *\n",
    "import theano.tensor as T\n",
    "import numpy as np #np.arrays são usados para entrada e saída"
   ]
  },
  {
   "cell_type": "markdown",
   "metadata": {
    "collapsed": true
   },
   "source": [
    "### Theano\n",
    "Workflow parecido com Tensorflow:\n",
    "\n",
    "Descrevemos primeiro um grafo de computação\n",
    "\n",
    "Estáticamente tipado: definimos o tipo das variáveis e elas não mudam\n",
    "\n",
    "A função theano.function compila e prepara o grafo para uso, devolvendo uma função que pode ser chamada normalmente em python"
   ]
  },
  {
   "cell_type": "code",
   "execution_count": 2,
   "metadata": {
    "collapsed": true
   },
   "outputs": [],
   "source": [
    "#Faz um grafo de computação\n",
    "x = T.dscalar()\n",
    "y = T.dscalar()\n",
    "z = x + y\n",
    "f = function([x,y], z) #Compila em C"
   ]
  },
  {
   "cell_type": "code",
   "execution_count": 5,
   "metadata": {},
   "outputs": [
    {
     "name": "stdout",
     "output_type": "stream",
     "text": [
      "<theano.compile.function_module.Function object at 0x7fbfe658fdd8>\n",
      "Elemwise{add,no_inplace}.0\n",
      "3.0\n",
      "3.0\n"
     ]
    }
   ],
   "source": [
    "print(f)\n",
    "print(z)\n",
    "print(f(1, 2))\n",
    "print(z.eval({x: 1, y: 2})) #Não precisa compilar, mas não tão flexível"
   ]
  },
  {
   "cell_type": "markdown",
   "metadata": {},
   "source": [
    "### Vetores e Matrizes\n",
    "Exemplo: $Ax + b$"
   ]
  },
  {
   "cell_type": "code",
   "execution_count": 6,
   "metadata": {
    "collapsed": true
   },
   "outputs": [],
   "source": [
    "A = T.dmatrix('A')\n",
    "x = T.dvector('x')\n",
    "b = T.dvector('b')\n",
    "z = theano.dot(A, x) + b \n",
    "f = function([A, x, b], z)"
   ]
  },
  {
   "cell_type": "code",
   "execution_count": 7,
   "metadata": {},
   "outputs": [
    {
     "data": {
      "text/plain": [
       "array([ 2.,  0.])"
      ]
     },
     "execution_count": 7,
     "metadata": {},
     "output_type": "execute_result"
    }
   ],
   "source": [
    "A = np.array([[1, -1], [-1, 1]])\n",
    "x = np.array([2, 1])\n",
    "b = np.array([1, 1])\n",
    "f(A, x, b)"
   ]
  },
  {
   "cell_type": "markdown",
   "metadata": {},
   "source": [
    "### Tipos de variáveis\n",
    "Prefixo: tamanho e tipo\n",
    "* b = byte\n",
    "* w = inteiro de 16bits\n",
    "* i = inteiro de 32bits\n",
    "* l = inteiro de 64bits\n",
    "* f = float\n",
    "* d = double\n",
    "* c = número complexo\n",
    "\n",
    "Radical: forma\n",
    "\n",
    "  scalar, vector, matrix, row, col, tensor3, tensor4, tensor5"
   ]
  },
  {
   "cell_type": "markdown",
   "metadata": {},
   "source": [
    "### Variáveis com Estado"
   ]
  },
  {
   "cell_type": "markdown",
   "metadata": {},
   "source": [
    "Variáveis compartilhadas são simbólicas (podem ser usadas para construir o grafo de computação) e não-simbólicas (podem ser variáveis normais usando get_value() e set_value()"
   ]
  },
  {
   "cell_type": "code",
   "execution_count": 8,
   "metadata": {
    "collapsed": true
   },
   "outputs": [],
   "source": [
    "from theano import shared\n",
    "count = shared(0) #Cria um \"0\" compartilhável \n",
    "inc = T.iscalar()\n",
    "result = count + inc\n",
    "acc = function([inc], result)"
   ]
  },
  {
   "cell_type": "code",
   "execution_count": 9,
   "metadata": {},
   "outputs": [
    {
     "name": "stdout",
     "output_type": "stream",
     "text": [
      "1\n",
      "0\n"
     ]
    }
   ],
   "source": [
    "print(acc(1))\n",
    "print(count.get_value())"
   ]
  },
  {
   "cell_type": "code",
   "execution_count": 10,
   "metadata": {},
   "outputs": [
    {
     "name": "stdout",
     "output_type": "stream",
     "text": [
      "1\n",
      "2\n",
      "12\n"
     ]
    }
   ],
   "source": [
    "count.set_value(acc(1))\n",
    "print(count.get_value())\n",
    "count.set_value(acc(1))\n",
    "print(count.get_value())\n",
    "count.set_value(acc(10))\n",
    "print(count.get_value())"
   ]
  },
  {
   "cell_type": "markdown",
   "metadata": {},
   "source": [
    "Essa lógica de atualização pode ser incluída na própria função por meio do argumento opcional updates, que recebe uma lista de pares (variável compartilhada, expressão do update) e realiza o update depois da computação"
   ]
  },
  {
   "cell_type": "code",
   "execution_count": 12,
   "metadata": {
    "collapsed": true
   },
   "outputs": [],
   "source": [
    "count = shared(0)\n",
    "inc = T.iscalar()\n",
    "acc = function([inc], count + inc, updates=[(count, count + inc)])"
   ]
  },
  {
   "cell_type": "code",
   "execution_count": 13,
   "metadata": {},
   "outputs": [
    {
     "name": "stdout",
     "output_type": "stream",
     "text": [
      "1\n",
      "2\n",
      "22\n",
      "22\n"
     ]
    }
   ],
   "source": [
    "print(acc(1))\n",
    "print(acc(1))\n",
    "print(acc(20))\n",
    "print(count.get_value())"
   ]
  },
  {
   "cell_type": "markdown",
   "metadata": {},
   "source": [
    "### Variáveis Aleatórias\n",
    "Um tipo especial de variável compartilhada. Se usa geradores de número aleatórios (\"streams\") que são chamados quando necessários"
   ]
  },
  {
   "cell_type": "code",
   "execution_count": 14,
   "metadata": {
    "collapsed": true
   },
   "outputs": [],
   "source": [
    "from theano.tensor.shared_randomstreams import RandomStreams\n",
    "srng = RandomStreams(seed=0) \n",
    "num = srng.uniform()\n",
    "f = function([], num)\n",
    "g = function([], num, no_default_updates=True)"
   ]
  },
  {
   "cell_type": "code",
   "execution_count": 15,
   "metadata": {},
   "outputs": [
    {
     "name": "stdout",
     "output_type": "stream",
     "text": [
      "Atualiza gerador\n",
      "0.48604732751846313\n",
      "0.6857123374938965\n",
      "0.9855760335922241\n",
      "\n",
      "Não atualiza gerador\n",
      "0.19559641182422638\n",
      "0.19559641182422638\n",
      "0.19559641182422638\n"
     ]
    }
   ],
   "source": [
    "print(\"Atualiza gerador\")\n",
    "for _ in range(3):\n",
    "    print(f())\n",
    "print(\"\\nNão atualiza gerador\")\n",
    "for _ in range(3):\n",
    "    print(g())"
   ]
  },
  {
   "cell_type": "markdown",
   "metadata": {},
   "source": [
    "### Gradientes e Derivação (Básico)"
   ]
  },
  {
   "cell_type": "markdown",
   "metadata": {},
   "source": [
    "O formato de grafo torna especialmente fácil computar derivadas e gradientes pela regra da cadeia/backpropagation, dado que cada nó é uma operação simples que compõe depois com outras para criar uma expressão complexa (ver: http://cs231n.github.io/optimization-2/ )\n",
    "\n",
    "Com isso a função \"grad\" do Theano calcula simbólicamente o gradiente ou derivada de uma função:"
   ]
  },
  {
   "cell_type": "code",
   "execution_count": 21,
   "metadata": {},
   "outputs": [
    {
     "data": {
      "text/plain": [
       "'(((fill((TensorConstant{3} * (<TensorType(float64, scalar)> ** TensorConstant{-2})), TensorConstant{1.0}) * TensorConstant{3}) * TensorConstant{-2}) * (<TensorType(float64, scalar)> ** (TensorConstant{-2} - TensorConstant{1})))'"
      ]
     },
     "execution_count": 21,
     "metadata": {},
     "output_type": "execute_result"
    }
   ],
   "source": [
    "from theano import pp #pretty print\n",
    "x = T.dscalar()\n",
    "y = 3 * x ** -2 \n",
    "dy = T.grad(y, x) #dy/dx\n",
    "f = theano.function([x], dy)\n",
    "pp(dy)"
   ]
  },
  {
   "cell_type": "code",
   "execution_count": 20,
   "metadata": {},
   "outputs": [
    {
     "name": "stdout",
     "output_type": "stream",
     "text": [
      "-0.2222222222222222 -inf -6.0\n"
     ]
    }
   ],
   "source": [
    "print(f(3), f(0), f(1))"
   ]
  },
  {
   "cell_type": "code",
   "execution_count": null,
   "metadata": {
    "collapsed": true
   },
   "outputs": [],
   "source": []
  }
 ],
 "metadata": {
  "kernelspec": {
   "display_name": "Python 3",
   "language": "python",
   "name": "python3"
  },
  "language_info": {
   "codemirror_mode": {
    "name": "ipython",
    "version": 3
   },
   "file_extension": ".py",
   "mimetype": "text/x-python",
   "name": "python",
   "nbconvert_exporter": "python",
   "pygments_lexer": "ipython3",
   "version": "3.6.1"
  }
 },
 "nbformat": 4,
 "nbformat_minor": 2
}
